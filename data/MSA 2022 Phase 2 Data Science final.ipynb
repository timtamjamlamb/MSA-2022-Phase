{
 "cells": [
  {
   "cell_type": "markdown",
   "metadata": {
    "id": "1OUz2IUfHKlq"
   },
   "source": [
    "**MSA 2022 Phase 2 Data Science**"
   ]
  },
  {
   "cell_type": "code",
   "execution_count": 1,
   "metadata": {
    "id": "1B9U5pqnHP8S"
   },
   "outputs": [],
   "source": [
    "import pandas as pd\n",
    "import numpy as np\n",
    "import seaborn as sns\n",
    "import matplotlib.pyplot as plt\n",
    "\n",
    "from sklearn.model_selection import train_test_split\n",
    "\n",
    "from sklearn.linear_model import Ridge\n",
    "from sklearn.model_selection import GridSearchCV\n",
    "\n",
    "from sklearn.model_selection import KFold, cross_val_score\n",
    "from sklearn.metrics import r2_score, mean_squared_error\n",
    "\n",
    "import warnings\n",
    "warnings.simplefilter(\"ignore\")"
   ]
  },
  {
   "cell_type": "markdown",
   "metadata": {
    "id": "vqSNV11cHFR1"
   },
   "source": [
    "**Part 1 - Exploratory Data Analysis**"
   ]
  },
  {
   "cell_type": "code",
   "execution_count": 2,
   "metadata": {
    "colab": {
     "base_uri": "https://localhost:8080/",
     "height": 206
    },
    "id": "9D-UGfDvHVk5",
    "outputId": "99a009ef-ac32-4f4d-ca6a-bc16c7ae421e",
    "scrolled": true
   },
   "outputs": [
    {
     "data": {
      "text/html": [
       "<div>\n",
       "<style scoped>\n",
       "    .dataframe tbody tr th:only-of-type {\n",
       "        vertical-align: middle;\n",
       "    }\n",
       "\n",
       "    .dataframe tbody tr th {\n",
       "        vertical-align: top;\n",
       "    }\n",
       "\n",
       "    .dataframe thead th {\n",
       "        text-align: right;\n",
       "    }\n",
       "</style>\n",
       "<table border=\"1\" class=\"dataframe\">\n",
       "  <thead>\n",
       "    <tr style=\"text-align: right;\">\n",
       "      <th></th>\n",
       "      <th>station</th>\n",
       "      <th>valid</th>\n",
       "      <th>tmpc</th>\n",
       "      <th>dwpc</th>\n",
       "      <th>relh</th>\n",
       "      <th>sknt</th>\n",
       "      <th>gust</th>\n",
       "      <th>peak_wind_drct</th>\n",
       "    </tr>\n",
       "  </thead>\n",
       "  <tbody>\n",
       "    <tr>\n",
       "      <th>0</th>\n",
       "      <td>NZAA</td>\n",
       "      <td>2015-01-01 00:00</td>\n",
       "      <td>21.0</td>\n",
       "      <td>11.0</td>\n",
       "      <td>52.77</td>\n",
       "      <td>15.0</td>\n",
       "      <td>NaN</td>\n",
       "      <td>NaN</td>\n",
       "    </tr>\n",
       "    <tr>\n",
       "      <th>1</th>\n",
       "      <td>NZAA</td>\n",
       "      <td>2015-01-01 00:30</td>\n",
       "      <td>21.0</td>\n",
       "      <td>10.0</td>\n",
       "      <td>49.37</td>\n",
       "      <td>16.0</td>\n",
       "      <td>NaN</td>\n",
       "      <td>NaN</td>\n",
       "    </tr>\n",
       "    <tr>\n",
       "      <th>2</th>\n",
       "      <td>NZAA</td>\n",
       "      <td>2015-01-01 01:00</td>\n",
       "      <td>21.0</td>\n",
       "      <td>12.0</td>\n",
       "      <td>56.38</td>\n",
       "      <td>16.0</td>\n",
       "      <td>NaN</td>\n",
       "      <td>NaN</td>\n",
       "    </tr>\n",
       "    <tr>\n",
       "      <th>3</th>\n",
       "      <td>NZAA</td>\n",
       "      <td>2015-01-01 01:30</td>\n",
       "      <td>21.0</td>\n",
       "      <td>13.0</td>\n",
       "      <td>60.21</td>\n",
       "      <td>16.0</td>\n",
       "      <td>NaN</td>\n",
       "      <td>NaN</td>\n",
       "    </tr>\n",
       "    <tr>\n",
       "      <th>4</th>\n",
       "      <td>NZAA</td>\n",
       "      <td>2015-01-01 02:00</td>\n",
       "      <td>21.0</td>\n",
       "      <td>12.0</td>\n",
       "      <td>56.38</td>\n",
       "      <td>16.0</td>\n",
       "      <td>NaN</td>\n",
       "      <td>NaN</td>\n",
       "    </tr>\n",
       "  </tbody>\n",
       "</table>\n",
       "</div>"
      ],
      "text/plain": [
       "   station             valid  tmpc  dwpc   relh  sknt  gust  peak_wind_drct\n",
       "0     NZAA  2015-01-01 00:00  21.0  11.0  52.77  15.0   NaN             NaN\n",
       "1     NZAA  2015-01-01 00:30  21.0  10.0  49.37  16.0   NaN             NaN\n",
       "2     NZAA  2015-01-01 01:00  21.0  12.0  56.38  16.0   NaN             NaN\n",
       "3     NZAA  2015-01-01 01:30  21.0  13.0  60.21  16.0   NaN             NaN\n",
       "4     NZAA  2015-01-01 02:00  21.0  12.0  56.38  16.0   NaN             NaN"
      ]
     },
     "execution_count": 2,
     "metadata": {},
     "output_type": "execute_result"
    }
   ],
   "source": [
    "dataset = pd.read_csv(\"weather-data.csv\")\n",
    "dataset.head()"
   ]
  },
  {
   "cell_type": "markdown",
   "metadata": {},
   "source": [
    "Reading in data we see 8 columns with one being chr one datetime and 6 numeric except that gust and peak look empty. We start the data off on 1/1/15."
   ]
  },
  {
   "cell_type": "code",
   "execution_count": 3,
   "metadata": {
    "scrolled": true
   },
   "outputs": [
    {
     "data": {
      "text/html": [
       "<div>\n",
       "<style scoped>\n",
       "    .dataframe tbody tr th:only-of-type {\n",
       "        vertical-align: middle;\n",
       "    }\n",
       "\n",
       "    .dataframe tbody tr th {\n",
       "        vertical-align: top;\n",
       "    }\n",
       "\n",
       "    .dataframe thead th {\n",
       "        text-align: right;\n",
       "    }\n",
       "</style>\n",
       "<table border=\"1\" class=\"dataframe\">\n",
       "  <thead>\n",
       "    <tr style=\"text-align: right;\">\n",
       "      <th></th>\n",
       "      <th>station</th>\n",
       "      <th>valid</th>\n",
       "      <th>tmpc</th>\n",
       "      <th>dwpc</th>\n",
       "      <th>relh</th>\n",
       "      <th>sknt</th>\n",
       "      <th>gust</th>\n",
       "      <th>peak_wind_drct</th>\n",
       "    </tr>\n",
       "  </thead>\n",
       "  <tbody>\n",
       "    <tr>\n",
       "      <th>103708</th>\n",
       "      <td>NZAA</td>\n",
       "      <td>2020-12-30 21:30</td>\n",
       "      <td>19.0</td>\n",
       "      <td>14.0</td>\n",
       "      <td>72.74</td>\n",
       "      <td>5.0</td>\n",
       "      <td>NaN</td>\n",
       "      <td>NaN</td>\n",
       "    </tr>\n",
       "    <tr>\n",
       "      <th>103709</th>\n",
       "      <td>NZAA</td>\n",
       "      <td>2020-12-30 22:00</td>\n",
       "      <td>19.0</td>\n",
       "      <td>14.0</td>\n",
       "      <td>72.74</td>\n",
       "      <td>6.0</td>\n",
       "      <td>NaN</td>\n",
       "      <td>NaN</td>\n",
       "    </tr>\n",
       "    <tr>\n",
       "      <th>103710</th>\n",
       "      <td>NZAA</td>\n",
       "      <td>2020-12-30 22:30</td>\n",
       "      <td>20.0</td>\n",
       "      <td>14.0</td>\n",
       "      <td>68.35</td>\n",
       "      <td>6.0</td>\n",
       "      <td>NaN</td>\n",
       "      <td>NaN</td>\n",
       "    </tr>\n",
       "    <tr>\n",
       "      <th>103711</th>\n",
       "      <td>NZAA</td>\n",
       "      <td>2020-12-30 23:00</td>\n",
       "      <td>20.0</td>\n",
       "      <td>14.0</td>\n",
       "      <td>68.35</td>\n",
       "      <td>7.0</td>\n",
       "      <td>NaN</td>\n",
       "      <td>NaN</td>\n",
       "    </tr>\n",
       "    <tr>\n",
       "      <th>103712</th>\n",
       "      <td>NZAA</td>\n",
       "      <td>2020-12-30 23:30</td>\n",
       "      <td>22.0</td>\n",
       "      <td>14.0</td>\n",
       "      <td>60.44</td>\n",
       "      <td>6.0</td>\n",
       "      <td>NaN</td>\n",
       "      <td>NaN</td>\n",
       "    </tr>\n",
       "  </tbody>\n",
       "</table>\n",
       "</div>"
      ],
      "text/plain": [
       "        station             valid  tmpc  dwpc   relh  sknt  gust  \\\n",
       "103708     NZAA  2020-12-30 21:30  19.0  14.0  72.74   5.0   NaN   \n",
       "103709     NZAA  2020-12-30 22:00  19.0  14.0  72.74   6.0   NaN   \n",
       "103710     NZAA  2020-12-30 22:30  20.0  14.0  68.35   6.0   NaN   \n",
       "103711     NZAA  2020-12-30 23:00  20.0  14.0  68.35   7.0   NaN   \n",
       "103712     NZAA  2020-12-30 23:30  22.0  14.0  60.44   6.0   NaN   \n",
       "\n",
       "        peak_wind_drct  \n",
       "103708             NaN  \n",
       "103709             NaN  \n",
       "103710             NaN  \n",
       "103711             NaN  \n",
       "103712             NaN  "
      ]
     },
     "execution_count": 3,
     "metadata": {},
     "output_type": "execute_result"
    }
   ],
   "source": [
    "dataset.tail()"
   ]
  },
  {
   "cell_type": "markdown",
   "metadata": {},
   "source": [
    "Data ends on 30/12/20."
   ]
  },
  {
   "cell_type": "code",
   "execution_count": 4,
   "metadata": {
    "colab": {
     "base_uri": "https://localhost:8080/"
    },
    "id": "iOEbF8TpqHts",
    "outputId": "3c71a42f-ce43-4a1f-99b3-ee25fd31bf92",
    "scrolled": true
   },
   "outputs": [
    {
     "data": {
      "text/plain": [
       " station           object\n",
       "valid              object\n",
       "tmpc              float64\n",
       "dwpc              float64\n",
       "relh              float64\n",
       "sknt              float64\n",
       "gust              float64\n",
       "peak_wind_drct    float64\n",
       "dtype: object"
      ]
     },
     "execution_count": 4,
     "metadata": {},
     "output_type": "execute_result"
    }
   ],
   "source": [
    "dataset.dtypes"
   ]
  },
  {
   "cell_type": "markdown",
   "metadata": {},
   "source": [
    "We see our data types and that its 2 objects and 6 floats."
   ]
  },
  {
   "cell_type": "code",
   "execution_count": 5,
   "metadata": {
    "colab": {
     "base_uri": "https://localhost:8080/"
    },
    "id": "sDwlQc3lqIs2",
    "outputId": "29caf7f0-a2d5-423b-ed39-b0d3a4739440"
   },
   "outputs": [
    {
     "data": {
      "text/plain": [
       " station               0\n",
       "valid                  0\n",
       "tmpc                  35\n",
       "dwpc                  35\n",
       "relh                 120\n",
       "sknt                   9\n",
       "gust              102510\n",
       "peak_wind_drct    103713\n",
       "dtype: int64"
      ]
     },
     "execution_count": 5,
     "metadata": {},
     "output_type": "execute_result"
    }
   ],
   "source": [
    "dataset.isnull().sum()"
   ]
  },
  {
   "cell_type": "code",
   "execution_count": 6,
   "metadata": {
    "colab": {
     "base_uri": "https://localhost:8080/"
    },
    "id": "iq0oal8sqZRN",
    "outputId": "400827b3-9288-4ef5-fbce-29455a2e3ca0"
   },
   "outputs": [
    {
     "name": "stdout",
     "output_type": "stream",
     "text": [
      "Percent missing: gust  98.84006826530907\n",
      "Percent missing: peak_wind_drct  100.0\n"
     ]
    }
   ],
   "source": [
    "print(\"Percent missing: gust \", dataset[\"gust\"].isnull().sum() / len(dataset) *100)\n",
    "print(\"Percent missing: peak_wind_drct \", dataset[\"peak_wind_drct\"].isnull().sum() / len(dataset) *100)"
   ]
  },
  {
   "cell_type": "markdown",
   "metadata": {
    "id": "3DvOGTerqWOh"
   },
   "source": [
    "We see that peak wind and gust are empty/ missing a large amount of data so we can remove those columns.\n"
   ]
  },
  {
   "cell_type": "markdown",
   "metadata": {
    "id": "HWjAc7VBF7gc"
   },
   "source": [
    "Dataset Mean"
   ]
  },
  {
   "cell_type": "code",
   "execution_count": 7,
   "metadata": {
    "colab": {
     "base_uri": "https://localhost:8080/"
    },
    "id": "JSxPhGBUINh5",
    "outputId": "dc919836-34fb-45c5-f26c-eb0d1c9b05ad"
   },
   "outputs": [
    {
     "data": {
      "text/plain": [
       "tmpc    15.811503\n",
       "dwpc    12.115772\n",
       "relh    79.782307\n",
       "sknt     8.919029\n",
       "dtype: float64"
      ]
     },
     "execution_count": 7,
     "metadata": {},
     "output_type": "execute_result"
    }
   ],
   "source": [
    "dataset[[\"tmpc\",\"dwpc\", \"relh\", \"sknt\"]].mean().head()"
   ]
  },
  {
   "cell_type": "markdown",
   "metadata": {
    "id": "2L3QQXDcF94B"
   },
   "source": [
    "Dataset Standard Deviation"
   ]
  },
  {
   "cell_type": "code",
   "execution_count": 8,
   "metadata": {
    "colab": {
     "base_uri": "https://localhost:8080/"
    },
    "id": "2XR-zczBItB8",
    "outputId": "eba25929-f08b-4a2a-9266-3c6bd4369e00"
   },
   "outputs": [
    {
     "data": {
      "text/plain": [
       "tmpc     4.235197\n",
       "dwpc     3.738005\n",
       "relh    12.562199\n",
       "sknt     5.348379\n",
       "dtype: float64"
      ]
     },
     "execution_count": 8,
     "metadata": {},
     "output_type": "execute_result"
    }
   ],
   "source": [
    "dataset[[\"tmpc\",\"dwpc\", \"relh\", \"sknt\"]].std().head()"
   ]
  },
  {
   "cell_type": "markdown",
   "metadata": {
    "id": "x7WknS6CGAEI"
   },
   "source": [
    "Dataset 10th and 90th Percentile range"
   ]
  },
  {
   "cell_type": "code",
   "execution_count": 9,
   "metadata": {
    "colab": {
     "base_uri": "https://localhost:8080/",
     "height": 112
    },
    "id": "Lhaf8G0XI3v4",
    "outputId": "269a3c40-2f74-45aa-cdd0-926dfde5f0f6"
   },
   "outputs": [
    {
     "data": {
      "text/html": [
       "<div>\n",
       "<style scoped>\n",
       "    .dataframe tbody tr th:only-of-type {\n",
       "        vertical-align: middle;\n",
       "    }\n",
       "\n",
       "    .dataframe tbody tr th {\n",
       "        vertical-align: top;\n",
       "    }\n",
       "\n",
       "    .dataframe thead th {\n",
       "        text-align: right;\n",
       "    }\n",
       "</style>\n",
       "<table border=\"1\" class=\"dataframe\">\n",
       "  <thead>\n",
       "    <tr style=\"text-align: right;\">\n",
       "      <th></th>\n",
       "      <th>tmpc</th>\n",
       "      <th>dwpc</th>\n",
       "      <th>relh</th>\n",
       "      <th>sknt</th>\n",
       "    </tr>\n",
       "  </thead>\n",
       "  <tbody>\n",
       "    <tr>\n",
       "      <th>0.1</th>\n",
       "      <td>11.0</td>\n",
       "      <td>7.0</td>\n",
       "      <td>62.69</td>\n",
       "      <td>3.0</td>\n",
       "    </tr>\n",
       "    <tr>\n",
       "      <th>0.9</th>\n",
       "      <td>21.0</td>\n",
       "      <td>17.0</td>\n",
       "      <td>93.83</td>\n",
       "      <td>16.0</td>\n",
       "    </tr>\n",
       "  </tbody>\n",
       "</table>\n",
       "</div>"
      ],
      "text/plain": [
       "     tmpc  dwpc   relh  sknt\n",
       "0.1  11.0   7.0  62.69   3.0\n",
       "0.9  21.0  17.0  93.83  16.0"
      ]
     },
     "execution_count": 9,
     "metadata": {},
     "output_type": "execute_result"
    }
   ],
   "source": [
    "dataset[[\"tmpc\",\"dwpc\", \"relh\", \"sknt\"]].quantile([.1, .9]).head()"
   ]
  },
  {
   "cell_type": "markdown",
   "metadata": {
    "id": "IvEDgGCuGLC5"
   },
   "source": [
    "Dataset Correlation Plot"
   ]
  },
  {
   "cell_type": "code",
   "execution_count": 10,
   "metadata": {
    "colab": {
     "base_uri": "https://localhost:8080/",
     "height": 307
    },
    "id": "HgMTsvBrJFdU",
    "outputId": "4954628d-5cfa-4e19-ced6-6577c60a3740"
   },
   "outputs": [
    {
     "data": {
      "text/html": [
       "<style type=\"text/css\">\n",
       "#T_aa488_row0_col0, #T_aa488_row1_col1, #T_aa488_row2_col2, #T_aa488_row3_col3 {\n",
       "  background-color: #b40426;\n",
       "  color: #f1f1f1;\n",
       "}\n",
       "#T_aa488_row0_col1 {\n",
       "  background-color: #ee8669;\n",
       "  color: #f1f1f1;\n",
       "}\n",
       "#T_aa488_row0_col2, #T_aa488_row2_col0, #T_aa488_row2_col3, #T_aa488_row3_col1 {\n",
       "  background-color: #3b4cc0;\n",
       "  color: #f1f1f1;\n",
       "}\n",
       "#T_aa488_row0_col3 {\n",
       "  background-color: #d2dbe8;\n",
       "  color: #000000;\n",
       "}\n",
       "#T_aa488_row1_col0 {\n",
       "  background-color: #e26952;\n",
       "  color: #f1f1f1;\n",
       "}\n",
       "#T_aa488_row1_col2 {\n",
       "  background-color: #cad8ef;\n",
       "  color: #000000;\n",
       "}\n",
       "#T_aa488_row1_col3 {\n",
       "  background-color: #9abbff;\n",
       "  color: #000000;\n",
       "}\n",
       "#T_aa488_row2_col1 {\n",
       "  background-color: #7699f6;\n",
       "  color: #f1f1f1;\n",
       "}\n",
       "#T_aa488_row3_col0 {\n",
       "  background-color: #d6dce4;\n",
       "  color: #000000;\n",
       "}\n",
       "#T_aa488_row3_col2 {\n",
       "  background-color: #4257c9;\n",
       "  color: #f1f1f1;\n",
       "}\n",
       "</style>\n",
       "<table id=\"T_aa488\">\n",
       "  <thead>\n",
       "    <tr>\n",
       "      <th class=\"blank level0\" >&nbsp;</th>\n",
       "      <th id=\"T_aa488_level0_col0\" class=\"col_heading level0 col0\" >tmpc</th>\n",
       "      <th id=\"T_aa488_level0_col1\" class=\"col_heading level0 col1\" >dwpc</th>\n",
       "      <th id=\"T_aa488_level0_col2\" class=\"col_heading level0 col2\" >relh</th>\n",
       "      <th id=\"T_aa488_level0_col3\" class=\"col_heading level0 col3\" >sknt</th>\n",
       "    </tr>\n",
       "  </thead>\n",
       "  <tbody>\n",
       "    <tr>\n",
       "      <th id=\"T_aa488_level0_row0\" class=\"row_heading level0 row0\" >tmpc</th>\n",
       "      <td id=\"T_aa488_row0_col0\" class=\"data row0 col0\" >1.000000</td>\n",
       "      <td id=\"T_aa488_row0_col1\" class=\"data row0 col1\" >0.795403</td>\n",
       "      <td id=\"T_aa488_row0_col2\" class=\"data row0 col2\" >-0.451405</td>\n",
       "      <td id=\"T_aa488_row0_col3\" class=\"data row0 col3\" >0.235222</td>\n",
       "    </tr>\n",
       "    <tr>\n",
       "      <th id=\"T_aa488_level0_row1\" class=\"row_heading level0 row1\" >dwpc</th>\n",
       "      <td id=\"T_aa488_row1_col0\" class=\"data row1 col0\" >0.795403</td>\n",
       "      <td id=\"T_aa488_row1_col1\" class=\"data row1 col1\" >1.000000</td>\n",
       "      <td id=\"T_aa488_row1_col2\" class=\"data row1 col2\" >0.177898</td>\n",
       "      <td id=\"T_aa488_row1_col3\" class=\"data row1 col3\" >-0.007093</td>\n",
       "    </tr>\n",
       "    <tr>\n",
       "      <th id=\"T_aa488_level0_row2\" class=\"row_heading level0 row2\" >relh</th>\n",
       "      <td id=\"T_aa488_row2_col0\" class=\"data row2 col0\" >-0.451405</td>\n",
       "      <td id=\"T_aa488_row2_col1\" class=\"data row2 col1\" >0.177898</td>\n",
       "      <td id=\"T_aa488_row2_col2\" class=\"data row2 col2\" >1.000000</td>\n",
       "      <td id=\"T_aa488_row2_col3\" class=\"data row2 col3\" >-0.414763</td>\n",
       "    </tr>\n",
       "    <tr>\n",
       "      <th id=\"T_aa488_level0_row3\" class=\"row_heading level0 row3\" >sknt</th>\n",
       "      <td id=\"T_aa488_row3_col0\" class=\"data row3 col0\" >0.235222</td>\n",
       "      <td id=\"T_aa488_row3_col1\" class=\"data row3 col1\" >-0.007093</td>\n",
       "      <td id=\"T_aa488_row3_col2\" class=\"data row3 col2\" >-0.414763</td>\n",
       "      <td id=\"T_aa488_row3_col3\" class=\"data row3 col3\" >1.000000</td>\n",
       "    </tr>\n",
       "  </tbody>\n",
       "</table>\n"
      ],
      "text/plain": [
       "<pandas.io.formats.style.Styler at 0x1a04cc1d5e0>"
      ]
     },
     "execution_count": 10,
     "metadata": {},
     "output_type": "execute_result"
    }
   ],
   "source": [
    "corr = dataset[[\"tmpc\",\"dwpc\", \"relh\", \"sknt\"]].corr()\n",
    "\n",
    "corr.style.background_gradient(cmap='coolwarm')"
   ]
  },
  {
   "cell_type": "markdown",
   "metadata": {
    "id": "zThpRWxIJ-AA"
   },
   "source": [
    "We can see that this is a positive correlation between dew and temp. There is also alot of no relation and 2 big negative relations between sknt and relh and relh and tmpc. Because of such multicollinearity we would need a ridge model beacues it would help with the correlation but also the fact this will be regression and not classification."
   ]
  },
  {
   "cell_type": "markdown",
   "metadata": {
    "id": "o_y6kZ28GTCJ"
   },
   "source": [
    "Graphing any Numerical Sections of the dataset.\n",
    "\n",
    "randomly sampled 100 for runtime with same random_state. Produces even amounts. Getting randoms amounts to see spread of data."
   ]
  },
  {
   "cell_type": "code",
   "execution_count": 11,
   "metadata": {
    "colab": {
     "base_uri": "https://localhost:8080/",
     "height": 580
    },
    "id": "gX2fzU93KeU3",
    "outputId": "5d7a287f-c546-4e72-ad0e-fba6130262c6"
   },
   "outputs": [
    {
     "data": {
      "text/plain": [
       "<AxesSubplot:>"
      ]
     },
     "execution_count": 11,
     "metadata": {},
     "output_type": "execute_result"
    },
    {
     "data": {
      "image/png": "[encoded data removed]",
      "text/plain": [
       "<Figure size 432x288 with 1 Axes>"
      ]
     },
     "metadata": {
      "needs_background": "light"
     },
     "output_type": "display_data"
    }
   ],
   "source": [
    "dataset_t_graph = dataset[\"tmpc\"].sample(n=100, random_state = 1).plot(kind = \"bar\", color = 'blue')\n",
    "dataset_t_graph"
   ]
  },
  {
   "cell_type": "code",
   "execution_count": 12,
   "metadata": {},
   "outputs": [
    {
     "data": {
      "text/plain": [
       "<AxesSubplot:>"
      ]
     },
     "execution_count": 12,
     "metadata": {},
     "output_type": "execute_result"
    },
    {
     "data": {
      "image/png": "[encoded data removed]",
      "text/plain": [
       "<Figure size 432x288 with 1 Axes>"
      ]
     },
     "metadata": {
      "needs_background": "light"
     },
     "output_type": "display_data"
    }
   ],
   "source": [
    "dataset_d_graph = dataset[\"dwpc\"].sample(n=100, random_state = 1).plot(kind = \"bar\", color = 'blue')\n",
    "dataset_d_graph"
   ]
  },
  {
   "cell_type": "code",
   "execution_count": 13,
   "metadata": {},
   "outputs": [
    {
     "data": {
      "text/plain": [
       "<AxesSubplot:>"
      ]
     },
     "execution_count": 13,
     "metadata": {},
     "output_type": "execute_result"
    },
    {
     "data": {
      "image/png": "[encoded data removed]",
      "text/plain": [
       "<Figure size 432x288 with 1 Axes>"
      ]
     },
     "metadata": {
      "needs_background": "light"
     },
     "output_type": "display_data"
    }
   ],
   "source": [
    "dataset_r_graph = dataset[\"relh\"].sample(n=100, random_state = 1).plot(kind = \"bar\", color = 'blue')\n",
    "dataset_r_graph"
   ]
  },
  {
   "cell_type": "code",
   "execution_count": 14,
   "metadata": {
    "scrolled": true
   },
   "outputs": [
    {
     "data": {
      "text/plain": [
       "<AxesSubplot:>"
      ]
     },
     "execution_count": 14,
     "metadata": {},
     "output_type": "execute_result"
    },
    {
     "data": {
      "image/png": "[encoded data removed]",
      "text/plain": [
       "<Figure size 432x288 with 1 Axes>"
      ]
     },
     "metadata": {
      "needs_background": "light"
     },
     "output_type": "display_data"
    }
   ],
   "source": [
    "dataset_s_graph = dataset[\"sknt\"].sample(n=100, random_state = 1).plot(kind = \"bar\", color = 'blue')\n",
    "dataset_s_graph"
   ]
  },
  {
   "cell_type": "markdown",
   "metadata": {},
   "source": [
    "Nothing unusual about most of our data. It is fairly spread except for sknt which has some big major outliers which could boil down to freak gust wind/tornado weathers"
   ]
  },
  {
   "cell_type": "markdown",
   "metadata": {
    "id": "2tV6ON_jHAmz"
   },
   "source": [
    "**Part 2 - Data Preparation**"
   ]
  },
  {
   "cell_type": "markdown",
   "metadata": {
    "id": "UmcU4PQGGrUW"
   },
   "source": [
    " Dataset converted to a form that a model can use."
   ]
  },
  {
   "cell_type": "code",
   "execution_count": 15,
   "metadata": {
    "colab": {
     "base_uri": "https://localhost:8080/",
     "height": 206
    },
    "id": "VU4u0qVN_bTz",
    "outputId": "63fd3344-e5e3-4937-f630-996e71efc51f",
    "scrolled": false
   },
   "outputs": [
    {
     "data": {
      "text/html": [
       "<div>\n",
       "<style scoped>\n",
       "    .dataframe tbody tr th:only-of-type {\n",
       "        vertical-align: middle;\n",
       "    }\n",
       "\n",
       "    .dataframe tbody tr th {\n",
       "        vertical-align: top;\n",
       "    }\n",
       "\n",
       "    .dataframe thead th {\n",
       "        text-align: right;\n",
       "    }\n",
       "</style>\n",
       "<table border=\"1\" class=\"dataframe\">\n",
       "  <thead>\n",
       "    <tr style=\"text-align: right;\">\n",
       "      <th></th>\n",
       "      <th>dwpc</th>\n",
       "      <th>relh</th>\n",
       "      <th>sknt</th>\n",
       "      <th>tmpc</th>\n",
       "      <th>day</th>\n",
       "      <th>month</th>\n",
       "      <th>year</th>\n",
       "      <th>hour</th>\n",
       "      <th>minute</th>\n",
       "    </tr>\n",
       "  </thead>\n",
       "  <tbody>\n",
       "    <tr>\n",
       "      <th>0</th>\n",
       "      <td>11.0</td>\n",
       "      <td>52.77</td>\n",
       "      <td>15.0</td>\n",
       "      <td>21.0</td>\n",
       "      <td>1</td>\n",
       "      <td>1</td>\n",
       "      <td>2015</td>\n",
       "      <td>0</td>\n",
       "      <td>0</td>\n",
       "    </tr>\n",
       "    <tr>\n",
       "      <th>1</th>\n",
       "      <td>10.0</td>\n",
       "      <td>49.37</td>\n",
       "      <td>16.0</td>\n",
       "      <td>21.0</td>\n",
       "      <td>1</td>\n",
       "      <td>1</td>\n",
       "      <td>2015</td>\n",
       "      <td>0</td>\n",
       "      <td>30</td>\n",
       "    </tr>\n",
       "    <tr>\n",
       "      <th>2</th>\n",
       "      <td>12.0</td>\n",
       "      <td>56.38</td>\n",
       "      <td>16.0</td>\n",
       "      <td>21.0</td>\n",
       "      <td>1</td>\n",
       "      <td>1</td>\n",
       "      <td>2015</td>\n",
       "      <td>1</td>\n",
       "      <td>0</td>\n",
       "    </tr>\n",
       "    <tr>\n",
       "      <th>3</th>\n",
       "      <td>13.0</td>\n",
       "      <td>60.21</td>\n",
       "      <td>16.0</td>\n",
       "      <td>21.0</td>\n",
       "      <td>1</td>\n",
       "      <td>1</td>\n",
       "      <td>2015</td>\n",
       "      <td>1</td>\n",
       "      <td>30</td>\n",
       "    </tr>\n",
       "    <tr>\n",
       "      <th>4</th>\n",
       "      <td>12.0</td>\n",
       "      <td>56.38</td>\n",
       "      <td>16.0</td>\n",
       "      <td>21.0</td>\n",
       "      <td>1</td>\n",
       "      <td>1</td>\n",
       "      <td>2015</td>\n",
       "      <td>2</td>\n",
       "      <td>0</td>\n",
       "    </tr>\n",
       "  </tbody>\n",
       "</table>\n",
       "</div>"
      ],
      "text/plain": [
       "   dwpc   relh  sknt  tmpc  day  month  year  hour  minute\n",
       "0  11.0  52.77  15.0  21.0    1      1  2015     0       0\n",
       "1  10.0  49.37  16.0  21.0    1      1  2015     0      30\n",
       "2  12.0  56.38  16.0  21.0    1      1  2015     1       0\n",
       "3  13.0  60.21  16.0  21.0    1      1  2015     1      30\n",
       "4  12.0  56.38  16.0  21.0    1      1  2015     2       0"
      ]
     },
     "execution_count": 15,
     "metadata": {},
     "output_type": "execute_result"
    }
   ],
   "source": [
    "new_dataset = dataset[[\"valid\",\"dwpc\", \"relh\", \"sknt\", \"tmpc\"]]\n",
    "\n",
    "new_dataset['valid'] = pd.to_datetime(new_dataset['valid'])\n",
    "\n",
    "# Create new columns\n",
    "new_dataset['day'] = new_dataset['valid'].dt.day\n",
    "new_dataset['month'] = new_dataset['valid'].dt.month\n",
    "new_dataset['year'] = new_dataset['valid'].dt.year\n",
    "new_dataset['hour'] = new_dataset['valid'].dt.hour\n",
    "new_dataset['minute'] = new_dataset['valid'].dt.minute\n",
    "new_dataset = new_dataset.drop(columns=['valid'])\n",
    "\n",
    "new_dataset.head()\n"
   ]
  },
  {
   "cell_type": "markdown",
   "metadata": {},
   "source": [
    "Turned our datetime into INT so that we can predict on it for the model"
   ]
  },
  {
   "cell_type": "code",
   "execution_count": 16,
   "metadata": {},
   "outputs": [
    {
     "data": {
      "text/html": [
       "<div>\n",
       "<style scoped>\n",
       "    .dataframe tbody tr th:only-of-type {\n",
       "        vertical-align: middle;\n",
       "    }\n",
       "\n",
       "    .dataframe tbody tr th {\n",
       "        vertical-align: top;\n",
       "    }\n",
       "\n",
       "    .dataframe thead th {\n",
       "        text-align: right;\n",
       "    }\n",
       "</style>\n",
       "<table border=\"1\" class=\"dataframe\">\n",
       "  <thead>\n",
       "    <tr style=\"text-align: right;\">\n",
       "      <th></th>\n",
       "      <th>dwpc</th>\n",
       "      <th>relh</th>\n",
       "      <th>sknt</th>\n",
       "      <th>tmpc</th>\n",
       "      <th>day</th>\n",
       "      <th>month</th>\n",
       "      <th>year</th>\n",
       "      <th>hour</th>\n",
       "      <th>minute</th>\n",
       "    </tr>\n",
       "  </thead>\n",
       "  <tbody>\n",
       "    <tr>\n",
       "      <th>103708</th>\n",
       "      <td>14.0</td>\n",
       "      <td>72.74</td>\n",
       "      <td>5.0</td>\n",
       "      <td>19.0</td>\n",
       "      <td>30</td>\n",
       "      <td>12</td>\n",
       "      <td>2020</td>\n",
       "      <td>21</td>\n",
       "      <td>30</td>\n",
       "    </tr>\n",
       "    <tr>\n",
       "      <th>103709</th>\n",
       "      <td>14.0</td>\n",
       "      <td>72.74</td>\n",
       "      <td>6.0</td>\n",
       "      <td>19.0</td>\n",
       "      <td>30</td>\n",
       "      <td>12</td>\n",
       "      <td>2020</td>\n",
       "      <td>22</td>\n",
       "      <td>0</td>\n",
       "    </tr>\n",
       "    <tr>\n",
       "      <th>103710</th>\n",
       "      <td>14.0</td>\n",
       "      <td>68.35</td>\n",
       "      <td>6.0</td>\n",
       "      <td>20.0</td>\n",
       "      <td>30</td>\n",
       "      <td>12</td>\n",
       "      <td>2020</td>\n",
       "      <td>22</td>\n",
       "      <td>30</td>\n",
       "    </tr>\n",
       "    <tr>\n",
       "      <th>103711</th>\n",
       "      <td>14.0</td>\n",
       "      <td>68.35</td>\n",
       "      <td>7.0</td>\n",
       "      <td>20.0</td>\n",
       "      <td>30</td>\n",
       "      <td>12</td>\n",
       "      <td>2020</td>\n",
       "      <td>23</td>\n",
       "      <td>0</td>\n",
       "    </tr>\n",
       "    <tr>\n",
       "      <th>103712</th>\n",
       "      <td>14.0</td>\n",
       "      <td>60.44</td>\n",
       "      <td>6.0</td>\n",
       "      <td>22.0</td>\n",
       "      <td>30</td>\n",
       "      <td>12</td>\n",
       "      <td>2020</td>\n",
       "      <td>23</td>\n",
       "      <td>30</td>\n",
       "    </tr>\n",
       "  </tbody>\n",
       "</table>\n",
       "</div>"
      ],
      "text/plain": [
       "        dwpc   relh  sknt  tmpc  day  month  year  hour  minute\n",
       "103708  14.0  72.74   5.0  19.0   30     12  2020    21      30\n",
       "103709  14.0  72.74   6.0  19.0   30     12  2020    22       0\n",
       "103710  14.0  68.35   6.0  20.0   30     12  2020    22      30\n",
       "103711  14.0  68.35   7.0  20.0   30     12  2020    23       0\n",
       "103712  14.0  60.44   6.0  22.0   30     12  2020    23      30"
      ]
     },
     "execution_count": 16,
     "metadata": {},
     "output_type": "execute_result"
    }
   ],
   "source": [
    "new_dataset.tail()"
   ]
  },
  {
   "cell_type": "markdown",
   "metadata": {
    "id": "5kkALoZLVqp5"
   },
   "source": [
    "Need to fill in NA values, going to impute with mean"
   ]
  },
  {
   "cell_type": "code",
   "execution_count": 17,
   "metadata": {
    "colab": {
     "base_uri": "https://localhost:8080/",
     "height": 261
    },
    "id": "VdJBb4TJnR7T",
    "outputId": "803b1e1f-e0e1-4301-ecb5-58bd53ad90a2",
    "scrolled": true
   },
   "outputs": [
    {
     "data": {
      "text/html": [
       "<div>\n",
       "<style scoped>\n",
       "    .dataframe tbody tr th:only-of-type {\n",
       "        vertical-align: middle;\n",
       "    }\n",
       "\n",
       "    .dataframe tbody tr th {\n",
       "        vertical-align: top;\n",
       "    }\n",
       "\n",
       "    .dataframe thead th {\n",
       "        text-align: right;\n",
       "    }\n",
       "</style>\n",
       "<table border=\"1\" class=\"dataframe\">\n",
       "  <thead>\n",
       "    <tr style=\"text-align: right;\">\n",
       "      <th></th>\n",
       "      <th>dwpc</th>\n",
       "      <th>relh</th>\n",
       "      <th>sknt</th>\n",
       "      <th>tmpc</th>\n",
       "      <th>day</th>\n",
       "      <th>month</th>\n",
       "      <th>year</th>\n",
       "      <th>hour</th>\n",
       "      <th>minute</th>\n",
       "    </tr>\n",
       "  </thead>\n",
       "  <tbody>\n",
       "    <tr>\n",
       "      <th>0</th>\n",
       "      <td>11.0</td>\n",
       "      <td>52.77</td>\n",
       "      <td>15.0</td>\n",
       "      <td>21.0</td>\n",
       "      <td>1</td>\n",
       "      <td>1</td>\n",
       "      <td>2015</td>\n",
       "      <td>0</td>\n",
       "      <td>0</td>\n",
       "    </tr>\n",
       "    <tr>\n",
       "      <th>1</th>\n",
       "      <td>10.0</td>\n",
       "      <td>49.37</td>\n",
       "      <td>16.0</td>\n",
       "      <td>21.0</td>\n",
       "      <td>1</td>\n",
       "      <td>1</td>\n",
       "      <td>2015</td>\n",
       "      <td>0</td>\n",
       "      <td>30</td>\n",
       "    </tr>\n",
       "    <tr>\n",
       "      <th>2</th>\n",
       "      <td>12.0</td>\n",
       "      <td>56.38</td>\n",
       "      <td>16.0</td>\n",
       "      <td>21.0</td>\n",
       "      <td>1</td>\n",
       "      <td>1</td>\n",
       "      <td>2015</td>\n",
       "      <td>1</td>\n",
       "      <td>0</td>\n",
       "    </tr>\n",
       "    <tr>\n",
       "      <th>3</th>\n",
       "      <td>13.0</td>\n",
       "      <td>60.21</td>\n",
       "      <td>16.0</td>\n",
       "      <td>21.0</td>\n",
       "      <td>1</td>\n",
       "      <td>1</td>\n",
       "      <td>2015</td>\n",
       "      <td>1</td>\n",
       "      <td>30</td>\n",
       "    </tr>\n",
       "    <tr>\n",
       "      <th>4</th>\n",
       "      <td>12.0</td>\n",
       "      <td>56.38</td>\n",
       "      <td>16.0</td>\n",
       "      <td>21.0</td>\n",
       "      <td>1</td>\n",
       "      <td>1</td>\n",
       "      <td>2015</td>\n",
       "      <td>2</td>\n",
       "      <td>0</td>\n",
       "    </tr>\n",
       "  </tbody>\n",
       "</table>\n",
       "</div>"
      ],
      "text/plain": [
       "   dwpc   relh  sknt  tmpc  day  month  year  hour  minute\n",
       "0  11.0  52.77  15.0  21.0    1      1  2015     0       0\n",
       "1  10.0  49.37  16.0  21.0    1      1  2015     0      30\n",
       "2  12.0  56.38  16.0  21.0    1      1  2015     1       0\n",
       "3  13.0  60.21  16.0  21.0    1      1  2015     1      30\n",
       "4  12.0  56.38  16.0  21.0    1      1  2015     2       0"
      ]
     },
     "execution_count": 17,
     "metadata": {},
     "output_type": "execute_result"
    }
   ],
   "source": [
    "new_dataset2 = new_dataset.fillna(new_dataset.mean())\n",
    "new_dataset2.head()"
   ]
  },
  {
   "cell_type": "code",
   "execution_count": 18,
   "metadata": {
    "colab": {
     "base_uri": "https://localhost:8080/"
    },
    "id": "me20ljaYvrCs",
    "outputId": "d96e53f7-aabe-484e-c3f0-e6fe7a6d2975",
    "scrolled": true
   },
   "outputs": [
    {
     "data": {
      "text/plain": [
       "dwpc      float64\n",
       "relh      float64\n",
       "sknt      float64\n",
       "tmpc      float64\n",
       "day         int64\n",
       "month       int64\n",
       "year        int64\n",
       "hour        int64\n",
       "minute      int64\n",
       "dtype: object"
      ]
     },
     "execution_count": 18,
     "metadata": {},
     "output_type": "execute_result"
    }
   ],
   "source": [
    "new_dataset2.dtypes"
   ]
  },
  {
   "cell_type": "code",
   "execution_count": 19,
   "metadata": {
    "scrolled": false
   },
   "outputs": [
    {
     "data": {
      "text/plain": [
       "[<matplotlib.lines.Line2D at 0x1a04df36c40>]"
      ]
     },
     "execution_count": 19,
     "metadata": {},
     "output_type": "execute_result"
    },
    {
     "data": {
      "image/png": "[encoded data removed]",
      "text/plain": [
       "<Figure size 432x288 with 1 Axes>"
      ]
     },
     "metadata": {
      "needs_background": "light"
     },
     "output_type": "display_data"
    }
   ],
   "source": [
    "plt.plot(new_dataset2['hour'], new_dataset2['tmpc'], 'o')"
   ]
  },
  {
   "cell_type": "markdown",
   "metadata": {},
   "source": [
    "we see that the temp drops during the day and heats at night"
   ]
  },
  {
   "cell_type": "code",
   "execution_count": 20,
   "metadata": {
    "scrolled": false
   },
   "outputs": [
    {
     "data": {
      "text/plain": [
       "[<matplotlib.lines.Line2D at 0x1a04e184850>]"
      ]
     },
     "execution_count": 20,
     "metadata": {},
     "output_type": "execute_result"
    },
    {
     "data": {
      "image/png": "[encoded data removed]",
      "text/plain": [
       "<Figure size 432x288 with 1 Axes>"
      ]
     },
     "metadata": {
      "needs_background": "light"
     },
     "output_type": "display_data"
    }
   ],
   "source": [
    "plt.plot(new_dataset2['month'], new_dataset2['tmpc'], 'o')"
   ]
  },
  {
   "cell_type": "markdown",
   "metadata": {},
   "source": [
    "The middle months are lower and colder because those are the winter months for auckland"
   ]
  },
  {
   "cell_type": "markdown",
   "metadata": {
    "id": "HSQ-CdtvGzjE"
   },
   "source": [
    "Dataset train and test sets"
   ]
  },
  {
   "cell_type": "markdown",
   "metadata": {
    "id": "I7zsNbmhHvum"
   },
   "source": [
    "**Ensure that you have also show some general information of the train/test dataset like in the EDA before entering the modelling stage.**"
   ]
  },
  {
   "cell_type": "code",
   "execution_count": 21,
   "metadata": {},
   "outputs": [],
   "source": [
    "predictors = [\"dwpc\", \"relh\", \"sknt\", \"tmpc\"]\n",
    "#365 * 24 * 2 * 4 (days in year * hours in days * times per hour * years)\n",
    "# 4 years of train and 1 of test\n",
    "train = new_dataset2.loc[:\"70080\"]\n",
    "test = new_dataset2.loc[\"70081\":]"
   ]
  },
  {
   "cell_type": "markdown",
   "metadata": {
    "id": "4qeFxyvzeXKj"
   },
   "source": [
    "**Part 3 - Data Modelling**"
   ]
  },
  {
   "cell_type": "markdown",
   "metadata": {},
   "source": [
    "Training dataset fitted"
   ]
  },
  {
   "cell_type": "code",
   "execution_count": 22,
   "metadata": {},
   "outputs": [
    {
     "data": {
      "text/html": [
       "<div>\n",
       "<style scoped>\n",
       "    .dataframe tbody tr th:only-of-type {\n",
       "        vertical-align: middle;\n",
       "    }\n",
       "\n",
       "    .dataframe tbody tr th {\n",
       "        vertical-align: top;\n",
       "    }\n",
       "\n",
       "    .dataframe thead th {\n",
       "        text-align: right;\n",
       "    }\n",
       "</style>\n",
       "<table border=\"1\" class=\"dataframe\">\n",
       "  <thead>\n",
       "    <tr style=\"text-align: right;\">\n",
       "      <th></th>\n",
       "      <th>dwpc</th>\n",
       "      <th>relh</th>\n",
       "      <th>sknt</th>\n",
       "      <th>tmpc</th>\n",
       "      <th>day</th>\n",
       "      <th>month</th>\n",
       "      <th>year</th>\n",
       "      <th>hour</th>\n",
       "      <th>minute</th>\n",
       "    </tr>\n",
       "  </thead>\n",
       "  <tbody>\n",
       "    <tr>\n",
       "      <th>0</th>\n",
       "      <td>11.0</td>\n",
       "      <td>52.77</td>\n",
       "      <td>15.0</td>\n",
       "      <td>21.0</td>\n",
       "      <td>1</td>\n",
       "      <td>1</td>\n",
       "      <td>2015</td>\n",
       "      <td>0</td>\n",
       "      <td>0</td>\n",
       "    </tr>\n",
       "    <tr>\n",
       "      <th>1</th>\n",
       "      <td>10.0</td>\n",
       "      <td>49.37</td>\n",
       "      <td>16.0</td>\n",
       "      <td>21.0</td>\n",
       "      <td>1</td>\n",
       "      <td>1</td>\n",
       "      <td>2015</td>\n",
       "      <td>0</td>\n",
       "      <td>30</td>\n",
       "    </tr>\n",
       "    <tr>\n",
       "      <th>2</th>\n",
       "      <td>12.0</td>\n",
       "      <td>56.38</td>\n",
       "      <td>16.0</td>\n",
       "      <td>21.0</td>\n",
       "      <td>1</td>\n",
       "      <td>1</td>\n",
       "      <td>2015</td>\n",
       "      <td>1</td>\n",
       "      <td>0</td>\n",
       "    </tr>\n",
       "    <tr>\n",
       "      <th>3</th>\n",
       "      <td>13.0</td>\n",
       "      <td>60.21</td>\n",
       "      <td>16.0</td>\n",
       "      <td>21.0</td>\n",
       "      <td>1</td>\n",
       "      <td>1</td>\n",
       "      <td>2015</td>\n",
       "      <td>1</td>\n",
       "      <td>30</td>\n",
       "    </tr>\n",
       "    <tr>\n",
       "      <th>4</th>\n",
       "      <td>12.0</td>\n",
       "      <td>56.38</td>\n",
       "      <td>16.0</td>\n",
       "      <td>21.0</td>\n",
       "      <td>1</td>\n",
       "      <td>1</td>\n",
       "      <td>2015</td>\n",
       "      <td>2</td>\n",
       "      <td>0</td>\n",
       "    </tr>\n",
       "  </tbody>\n",
       "</table>\n",
       "</div>"
      ],
      "text/plain": [
       "   dwpc   relh  sknt  tmpc  day  month  year  hour  minute\n",
       "0  11.0  52.77  15.0  21.0    1      1  2015     0       0\n",
       "1  10.0  49.37  16.0  21.0    1      1  2015     0      30\n",
       "2  12.0  56.38  16.0  21.0    1      1  2015     1       0\n",
       "3  13.0  60.21  16.0  21.0    1      1  2015     1      30\n",
       "4  12.0  56.38  16.0  21.0    1      1  2015     2       0"
      ]
     },
     "execution_count": 22,
     "metadata": {},
     "output_type": "execute_result"
    }
   ],
   "source": [
    "train.head()"
   ]
  },
  {
   "cell_type": "code",
   "execution_count": 23,
   "metadata": {
    "scrolled": false
   },
   "outputs": [
    {
     "data": {
      "text/html": [
       "<div>\n",
       "<style scoped>\n",
       "    .dataframe tbody tr th:only-of-type {\n",
       "        vertical-align: middle;\n",
       "    }\n",
       "\n",
       "    .dataframe tbody tr th {\n",
       "        vertical-align: top;\n",
       "    }\n",
       "\n",
       "    .dataframe thead th {\n",
       "        text-align: right;\n",
       "    }\n",
       "</style>\n",
       "<table border=\"1\" class=\"dataframe\">\n",
       "  <thead>\n",
       "    <tr style=\"text-align: right;\">\n",
       "      <th></th>\n",
       "      <th>dwpc</th>\n",
       "      <th>relh</th>\n",
       "      <th>sknt</th>\n",
       "      <th>tmpc</th>\n",
       "      <th>day</th>\n",
       "      <th>month</th>\n",
       "      <th>year</th>\n",
       "      <th>hour</th>\n",
       "      <th>minute</th>\n",
       "    </tr>\n",
       "  </thead>\n",
       "  <tbody>\n",
       "    <tr>\n",
       "      <th>70081</th>\n",
       "      <td>18.0</td>\n",
       "      <td>88.26</td>\n",
       "      <td>4.0</td>\n",
       "      <td>20.0</td>\n",
       "      <td>29</td>\n",
       "      <td>1</td>\n",
       "      <td>2019</td>\n",
       "      <td>13</td>\n",
       "      <td>30</td>\n",
       "    </tr>\n",
       "    <tr>\n",
       "      <th>70082</th>\n",
       "      <td>19.0</td>\n",
       "      <td>88.34</td>\n",
       "      <td>6.0</td>\n",
       "      <td>21.0</td>\n",
       "      <td>29</td>\n",
       "      <td>1</td>\n",
       "      <td>2019</td>\n",
       "      <td>14</td>\n",
       "      <td>0</td>\n",
       "    </tr>\n",
       "    <tr>\n",
       "      <th>70083</th>\n",
       "      <td>18.0</td>\n",
       "      <td>88.26</td>\n",
       "      <td>4.0</td>\n",
       "      <td>20.0</td>\n",
       "      <td>29</td>\n",
       "      <td>1</td>\n",
       "      <td>2019</td>\n",
       "      <td>14</td>\n",
       "      <td>30</td>\n",
       "    </tr>\n",
       "    <tr>\n",
       "      <th>70084</th>\n",
       "      <td>19.0</td>\n",
       "      <td>93.97</td>\n",
       "      <td>6.0</td>\n",
       "      <td>20.0</td>\n",
       "      <td>29</td>\n",
       "      <td>1</td>\n",
       "      <td>2019</td>\n",
       "      <td>15</td>\n",
       "      <td>0</td>\n",
       "    </tr>\n",
       "    <tr>\n",
       "      <th>70085</th>\n",
       "      <td>18.0</td>\n",
       "      <td>88.26</td>\n",
       "      <td>5.0</td>\n",
       "      <td>20.0</td>\n",
       "      <td>29</td>\n",
       "      <td>1</td>\n",
       "      <td>2019</td>\n",
       "      <td>15</td>\n",
       "      <td>30</td>\n",
       "    </tr>\n",
       "  </tbody>\n",
       "</table>\n",
       "</div>"
      ],
      "text/plain": [
       "       dwpc   relh  sknt  tmpc  day  month  year  hour  minute\n",
       "70081  18.0  88.26   4.0  20.0   29      1  2019    13      30\n",
       "70082  19.0  88.34   6.0  21.0   29      1  2019    14       0\n",
       "70083  18.0  88.26   4.0  20.0   29      1  2019    14      30\n",
       "70084  19.0  93.97   6.0  20.0   29      1  2019    15       0\n",
       "70085  18.0  88.26   5.0  20.0   29      1  2019    15      30"
      ]
     },
     "execution_count": 23,
     "metadata": {},
     "output_type": "execute_result"
    }
   ],
   "source": [
    "test.head()"
   ]
  },
  {
   "cell_type": "code",
   "execution_count": 24,
   "metadata": {},
   "outputs": [],
   "source": [
    "X_train = train[['year', 'month', 'day', 'hour', 'minute']]\n",
    "X_test = test[['year', 'month', 'day', 'hour', 'minute']]\n",
    "\n",
    "# the target is every other column except year, month, day, hour and minute columns\n",
    "y_train = train.drop(['year', 'month', 'day', 'hour', 'minute'], axis=1)\n",
    "y_test = test.drop(['year', 'month', 'day', 'hour', 'minute'], axis=1)"
   ]
  },
  {
   "cell_type": "markdown",
   "metadata": {},
   "source": [
    "using dwpc, relh, sknt and tmpc as predictors and the date/time as target."
   ]
  },
  {
   "cell_type": "code",
   "execution_count": 25,
   "metadata": {
    "scrolled": true
   },
   "outputs": [
    {
     "name": "stdout",
     "output_type": "stream",
     "text": [
      "(70081, 5)\n",
      "(33632, 5)\n",
      "(70081, 4)\n",
      "(33632, 4)\n"
     ]
    }
   ],
   "source": [
    "print(X_train.shape)\n",
    "print(X_test.shape)\n",
    "print(y_train.shape)\n",
    "print(y_test.shape)"
   ]
  },
  {
   "cell_type": "markdown",
   "metadata": {},
   "source": [
    "Choosing to use ridge because when predicting our factors which have high relation (multicollinearity) it should perform better than other linear regression predictors"
   ]
  },
  {
   "cell_type": "code",
   "execution_count": 26,
   "metadata": {
    "scrolled": true
   },
   "outputs": [
    {
     "data": {
      "text/plain": [
       "GridSearchCV(cv=5, estimator=Ridge(),\n",
       "             param_grid={'alpha': [0.1, 1, 5, 10, 20, 50, 100, 1000, 100000,\n",
       "                                   150000, 200000, 250000, 500000, 10000000]})"
      ]
     },
     "execution_count": 26,
     "metadata": {},
     "output_type": "execute_result"
    }
   ],
   "source": [
    "parameters = {'alpha':[.1, 1, 5, 10, 20, 50, 100,1000, 100000, 150000, 200000, 250000, 500000, 10000000]}\n",
    "\n",
    "\n",
    "# define the model/ estimator\n",
    "model = Ridge()\n",
    "\n",
    "# define the grid search\n",
    "Ridge_reg= GridSearchCV(model, parameters, cv=5)\n",
    "\n",
    "#fit the grid search\n",
    "Ridge_reg.fit(X_train, y_train)"
   ]
  },
  {
   "cell_type": "code",
   "execution_count": 27,
   "metadata": {
    "scrolled": false
   },
   "outputs": [
    {
     "name": "stdout",
     "output_type": "stream",
     "text": [
      " Results from Grid Search \n",
      "\n",
      " The best estimator across ALL searched params:\n",
      " Ridge(alpha=200000)\n",
      "\n",
      " The best score across ALL searched params:\n",
      " 0.08100493739263984\n",
      "\n",
      " The best parameters across ALL searched params:\n",
      " {'alpha': 200000}\n"
     ]
    }
   ],
   "source": [
    "print(\" Results from Grid Search \" )\n",
    "print(\"\\n The best estimator across ALL searched params:\\n\",Ridge_reg.best_estimator_)\n",
    "print(\"\\n The best score across ALL searched params:\\n\",Ridge_reg.best_score_)\n",
    "print(\"\\n The best parameters across ALL searched params:\\n\",Ridge_reg.best_params_)"
   ]
  },
  {
   "cell_type": "markdown",
   "metadata": {},
   "source": [
    "Our best score is very low so this is the wrong model. Now we will be checking performance of base models by evaluating the cross-validation RMSLE error."
   ]
  },
  {
   "cell_type": "code",
   "execution_count": 28,
   "metadata": {
    "scrolled": false
   },
   "outputs": [
    {
     "name": "stdout",
     "output_type": "stream",
     "text": [
      "R^2 Score: 0.06888152183511095\n",
      "RMSE Score: 7.147660487492039\n"
     ]
    }
   ],
   "source": [
    "Ridge = Ridge_reg.best_estimator_\n",
    "Ridge.fit(X_train, y_train)\n",
    "Ridge_pred = Ridge.predict(X_test)\n",
    "r2_Ridge = r2_score(y_test, Ridge_pred)\n",
    "rmse_Ridge = np.sqrt(mean_squared_error(y_test, Ridge_pred))\n",
    "print(\"R^2 Score: \" + str(r2_Ridge))\n",
    "print(\"RMSE Score: \" + str(rmse_Ridge))"
   ]
  },
  {
   "cell_type": "code",
   "execution_count": 29,
   "metadata": {
    "scrolled": true
   },
   "outputs": [
    {
     "name": "stdout",
     "output_type": "stream",
     "text": [
      "Cross Validation Score: -0.23373512054663953\n"
     ]
    }
   ],
   "source": [
    "scores_Ridge = cross_val_score(Ridge, X_train, y_train, cv=10, scoring=\"r2\")\n",
    "print(\"Cross Validation Score: \" + str(np.mean(scores_Ridge)))"
   ]
  },
  {
   "cell_type": "markdown",
   "metadata": {},
   "source": [
    "Our model is scoring very low on itself. So our predictions would be very bad as well.\n",
    "\n",
    "Another month of the existing dataset predicted.\n",
    "Final date from df is 2020-12-30 23:30 so predictions will range from 2021-01-01 to 2021-01-30 23:30."
   ]
  },
  {
   "cell_type": "code",
   "execution_count": 30,
   "metadata": {
    "scrolled": true
   },
   "outputs": [
    {
     "data": {
      "text/html": [
       "<div>\n",
       "<style scoped>\n",
       "    .dataframe tbody tr th:only-of-type {\n",
       "        vertical-align: middle;\n",
       "    }\n",
       "\n",
       "    .dataframe tbody tr th {\n",
       "        vertical-align: top;\n",
       "    }\n",
       "\n",
       "    .dataframe thead th {\n",
       "        text-align: right;\n",
       "    }\n",
       "</style>\n",
       "<table border=\"1\" class=\"dataframe\">\n",
       "  <thead>\n",
       "    <tr style=\"text-align: right;\">\n",
       "      <th></th>\n",
       "      <th>day</th>\n",
       "      <th>month</th>\n",
       "      <th>year</th>\n",
       "      <th>hour</th>\n",
       "      <th>minute</th>\n",
       "    </tr>\n",
       "  </thead>\n",
       "  <tbody>\n",
       "    <tr>\n",
       "      <th>0</th>\n",
       "      <td>31</td>\n",
       "      <td>12</td>\n",
       "      <td>2020</td>\n",
       "      <td>0</td>\n",
       "      <td>0</td>\n",
       "    </tr>\n",
       "    <tr>\n",
       "      <th>1</th>\n",
       "      <td>31</td>\n",
       "      <td>12</td>\n",
       "      <td>2020</td>\n",
       "      <td>0</td>\n",
       "      <td>30</td>\n",
       "    </tr>\n",
       "    <tr>\n",
       "      <th>2</th>\n",
       "      <td>31</td>\n",
       "      <td>12</td>\n",
       "      <td>2020</td>\n",
       "      <td>1</td>\n",
       "      <td>0</td>\n",
       "    </tr>\n",
       "    <tr>\n",
       "      <th>3</th>\n",
       "      <td>31</td>\n",
       "      <td>12</td>\n",
       "      <td>2020</td>\n",
       "      <td>1</td>\n",
       "      <td>30</td>\n",
       "    </tr>\n",
       "    <tr>\n",
       "      <th>4</th>\n",
       "      <td>31</td>\n",
       "      <td>12</td>\n",
       "      <td>2020</td>\n",
       "      <td>2</td>\n",
       "      <td>0</td>\n",
       "    </tr>\n",
       "    <tr>\n",
       "      <th>...</th>\n",
       "      <td>...</td>\n",
       "      <td>...</td>\n",
       "      <td>...</td>\n",
       "      <td>...</td>\n",
       "      <td>...</td>\n",
       "    </tr>\n",
       "    <tr>\n",
       "      <th>1531</th>\n",
       "      <td>31</td>\n",
       "      <td>1</td>\n",
       "      <td>2021</td>\n",
       "      <td>21</td>\n",
       "      <td>30</td>\n",
       "    </tr>\n",
       "    <tr>\n",
       "      <th>1532</th>\n",
       "      <td>31</td>\n",
       "      <td>1</td>\n",
       "      <td>2021</td>\n",
       "      <td>22</td>\n",
       "      <td>0</td>\n",
       "    </tr>\n",
       "    <tr>\n",
       "      <th>1533</th>\n",
       "      <td>31</td>\n",
       "      <td>1</td>\n",
       "      <td>2021</td>\n",
       "      <td>22</td>\n",
       "      <td>30</td>\n",
       "    </tr>\n",
       "    <tr>\n",
       "      <th>1534</th>\n",
       "      <td>31</td>\n",
       "      <td>1</td>\n",
       "      <td>2021</td>\n",
       "      <td>23</td>\n",
       "      <td>0</td>\n",
       "    </tr>\n",
       "    <tr>\n",
       "      <th>1535</th>\n",
       "      <td>31</td>\n",
       "      <td>1</td>\n",
       "      <td>2021</td>\n",
       "      <td>23</td>\n",
       "      <td>30</td>\n",
       "    </tr>\n",
       "  </tbody>\n",
       "</table>\n",
       "<p>1536 rows × 5 columns</p>\n",
       "</div>"
      ],
      "text/plain": [
       "      day  month  year  hour  minute\n",
       "0      31     12  2020     0       0\n",
       "1      31     12  2020     0      30\n",
       "2      31     12  2020     1       0\n",
       "3      31     12  2020     1      30\n",
       "4      31     12  2020     2       0\n",
       "...   ...    ...   ...   ...     ...\n",
       "1531   31      1  2021    21      30\n",
       "1532   31      1  2021    22       0\n",
       "1533   31      1  2021    22      30\n",
       "1534   31      1  2021    23       0\n",
       "1535   31      1  2021    23      30\n",
       "\n",
       "[1536 rows x 5 columns]"
      ]
     },
     "execution_count": 30,
     "metadata": {},
     "output_type": "execute_result"
    }
   ],
   "source": [
    "rng = pd.date_range('2020-12-31', periods=1536, freq='30T')\n",
    "prediction_df = pd.DataFrame({'valid': rng, \n",
    "                             })\n",
    "prediction_df['valid'] = pd.to_datetime(prediction_df['valid'])\n",
    "# Create new columns\n",
    "prediction_df['day'] = prediction_df['valid'].dt.day\n",
    "prediction_df['month'] = prediction_df['valid'].dt.month\n",
    "prediction_df['year'] = prediction_df['valid'].dt.year\n",
    "prediction_df['hour'] = prediction_df['valid'].dt.hour\n",
    "prediction_df['minute'] = prediction_df['valid'].dt.minute\n",
    "prediction_df = prediction_df.drop(columns=['valid'])\n",
    "\n",
    "prediction_df"
   ]
  },
  {
   "cell_type": "code",
   "execution_count": 31,
   "metadata": {
    "scrolled": false
   },
   "outputs": [
    {
     "data": {
      "text/plain": [
       "array([[-173.20674059, -237.21604377,   19.97486652, -103.67163556],\n",
       "       [-173.20895464, -237.21634045,   19.97904017, -103.67356745],\n",
       "       [-173.22249646, -236.69521717,   19.81297862, -103.79559512],\n",
       "       ...,\n",
       "       [-169.60359691, -224.86393057,   15.12993521, -102.49772262],\n",
       "       [-169.61713873, -224.34280729,   14.96387366, -102.6197503 ],\n",
       "       [-169.61935278, -224.34310397,   14.96804731, -102.62168218]])"
      ]
     },
     "execution_count": 31,
     "metadata": {},
     "output_type": "execute_result"
    }
   ],
   "source": [
    "Ridge.predict(prediction_df)"
   ]
  },
  {
   "cell_type": "markdown",
   "metadata": {},
   "source": [
    "Here we see that we are predicting values which are very way far off what the mean of our columns should be.\n",
    "All the code works but this is the wrong model so we would need to change it in the future and this would not be suitable to predict any future outcomes."
   ]
  },
  {
   "cell_type": "markdown",
   "metadata": {
    "id": "j7S4XG5RH-9p"
   },
   "source": [
    "**Conclusion**\n",
    "\n",
    "*   My model is able to predict the test with a 99% accuracy. Take this with a grain of salt because i only used a sample of the entire dataset. I am also able to predict the future month.\n",
    "*   My predictions are very interesting because i do not have values for dwpc,relh and sknt which makes my predictions very random and my scores very high for score testing earlier on\n"
   ]
  }
 ],
 "metadata": {
  "colab": {
   "collapsed_sections": [],
   "name": "msa.ipynb",
   "provenance": []
  },
  "kernelspec": {
   "display_name": "Python 3 (ipykernel)",
   "language": "python",
   "name": "python3"
  },
  "language_info": {
   "codemirror_mode": {
    "name": "ipython",
    "version": 3
   },
   "file_extension": ".py",
   "mimetype": "text/x-python",
   "name": "python",
   "nbconvert_exporter": "python",
   "pygments_lexer": "ipython3",
   "version": "3.8.13"
  }
 },
 "nbformat": 4,
 "nbformat_minor": 1
}

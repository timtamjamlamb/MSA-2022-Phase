{
 "cells": [
  {
   "cell_type": "markdown",
   "metadata": {
    "id": "1OUz2IUfHKlq"
   },
   "source": [
    "**MSA 2022 Phase 2 Data Science**"
   ]
  },
  {
   "cell_type": "code",
   "execution_count": 4,
   "metadata": {
    "id": "1B9U5pqnHP8S"
   },
   "outputs": [],
   "source": [
    "import pandas as pd\n",
    "import numpy as np\n",
    "import seaborn as sns\n",
    "import matplotlib.pyplot as plt\n",
    "\n",
    "from sklearn.model_selection import train_test_split\n",
    "\n",
    "from sklearn.ensemble import GradientBoostingRegressor\n",
    "from sklearn.model_selection import GridSearchCV\n",
    "\n",
    "from sklearn.model_selection import KFold, cross_val_score\n",
    "from sklearn.metrics import r2_score, mean_squared_error"
   ]
  },
  {
   "cell_type": "markdown",
   "metadata": {
    "id": "vqSNV11cHFR1"
   },
   "source": [
    "**Part 1 - Exploratory Data Analysis**"
   ]
  },
  {
   "cell_type": "code",
   "execution_count": 5,
   "metadata": {
    "colab": {
     "base_uri": "https://localhost:8080/",
     "height": 206
    },
    "id": "9D-UGfDvHVk5",
    "outputId": "99a009ef-ac32-4f4d-ca6a-bc16c7ae421e"
   },
   "outputs": [
    {
     "data": {
      "text/html": [
       "<div>\n",
       "<style scoped>\n",
       "    .dataframe tbody tr th:only-of-type {\n",
       "        vertical-align: middle;\n",
       "    }\n",
       "\n",
       "    .dataframe tbody tr th {\n",
       "        vertical-align: top;\n",
       "    }\n",
       "\n",
       "    .dataframe thead th {\n",
       "        text-align: right;\n",
       "    }\n",
       "</style>\n",
       "<table border=\"1\" class=\"dataframe\">\n",
       "  <thead>\n",
       "    <tr style=\"text-align: right;\">\n",
       "      <th></th>\n",
       "      <th>station</th>\n",
       "      <th>valid</th>\n",
       "      <th>tmpc</th>\n",
       "      <th>dwpc</th>\n",
       "      <th>relh</th>\n",
       "      <th>sknt</th>\n",
       "      <th>gust</th>\n",
       "      <th>peak_wind_drct</th>\n",
       "    </tr>\n",
       "  </thead>\n",
       "  <tbody>\n",
       "    <tr>\n",
       "      <th>0</th>\n",
       "      <td>NZAA</td>\n",
       "      <td>2015-01-01 00:00</td>\n",
       "      <td>21.0</td>\n",
       "      <td>11.0</td>\n",
       "      <td>52.77</td>\n",
       "      <td>15.0</td>\n",
       "      <td>NaN</td>\n",
       "      <td>NaN</td>\n",
       "    </tr>\n",
       "    <tr>\n",
       "      <th>1</th>\n",
       "      <td>NZAA</td>\n",
       "      <td>2015-01-01 00:30</td>\n",
       "      <td>21.0</td>\n",
       "      <td>10.0</td>\n",
       "      <td>49.37</td>\n",
       "      <td>16.0</td>\n",
       "      <td>NaN</td>\n",
       "      <td>NaN</td>\n",
       "    </tr>\n",
       "    <tr>\n",
       "      <th>2</th>\n",
       "      <td>NZAA</td>\n",
       "      <td>2015-01-01 01:00</td>\n",
       "      <td>21.0</td>\n",
       "      <td>12.0</td>\n",
       "      <td>56.38</td>\n",
       "      <td>16.0</td>\n",
       "      <td>NaN</td>\n",
       "      <td>NaN</td>\n",
       "    </tr>\n",
       "    <tr>\n",
       "      <th>3</th>\n",
       "      <td>NZAA</td>\n",
       "      <td>2015-01-01 01:30</td>\n",
       "      <td>21.0</td>\n",
       "      <td>13.0</td>\n",
       "      <td>60.21</td>\n",
       "      <td>16.0</td>\n",
       "      <td>NaN</td>\n",
       "      <td>NaN</td>\n",
       "    </tr>\n",
       "    <tr>\n",
       "      <th>4</th>\n",
       "      <td>NZAA</td>\n",
       "      <td>2015-01-01 02:00</td>\n",
       "      <td>21.0</td>\n",
       "      <td>12.0</td>\n",
       "      <td>56.38</td>\n",
       "      <td>16.0</td>\n",
       "      <td>NaN</td>\n",
       "      <td>NaN</td>\n",
       "    </tr>\n",
       "  </tbody>\n",
       "</table>\n",
       "</div>"
      ],
      "text/plain": [
       "   station             valid  tmpc  dwpc   relh  sknt  gust  peak_wind_drct\n",
       "0     NZAA  2015-01-01 00:00  21.0  11.0  52.77  15.0   NaN             NaN\n",
       "1     NZAA  2015-01-01 00:30  21.0  10.0  49.37  16.0   NaN             NaN\n",
       "2     NZAA  2015-01-01 01:00  21.0  12.0  56.38  16.0   NaN             NaN\n",
       "3     NZAA  2015-01-01 01:30  21.0  13.0  60.21  16.0   NaN             NaN\n",
       "4     NZAA  2015-01-01 02:00  21.0  12.0  56.38  16.0   NaN             NaN"
      ]
     },
     "execution_count": 5,
     "metadata": {},
     "output_type": "execute_result"
    }
   ],
   "source": [
    "dataset = pd.read_csv(\"weather-data.csv\")\n",
    "dataset.head()"
   ]
  },
  {
   "cell_type": "code",
   "execution_count": 6,
   "metadata": {},
   "outputs": [
    {
     "data": {
      "text/html": [
       "<div>\n",
       "<style scoped>\n",
       "    .dataframe tbody tr th:only-of-type {\n",
       "        vertical-align: middle;\n",
       "    }\n",
       "\n",
       "    .dataframe tbody tr th {\n",
       "        vertical-align: top;\n",
       "    }\n",
       "\n",
       "    .dataframe thead th {\n",
       "        text-align: right;\n",
       "    }\n",
       "</style>\n",
       "<table border=\"1\" class=\"dataframe\">\n",
       "  <thead>\n",
       "    <tr style=\"text-align: right;\">\n",
       "      <th></th>\n",
       "      <th>station</th>\n",
       "      <th>valid</th>\n",
       "      <th>tmpc</th>\n",
       "      <th>dwpc</th>\n",
       "      <th>relh</th>\n",
       "      <th>sknt</th>\n",
       "      <th>gust</th>\n",
       "      <th>peak_wind_drct</th>\n",
       "    </tr>\n",
       "  </thead>\n",
       "  <tbody>\n",
       "    <tr>\n",
       "      <th>103708</th>\n",
       "      <td>NZAA</td>\n",
       "      <td>2020-12-30 21:30</td>\n",
       "      <td>19.0</td>\n",
       "      <td>14.0</td>\n",
       "      <td>72.74</td>\n",
       "      <td>5.0</td>\n",
       "      <td>NaN</td>\n",
       "      <td>NaN</td>\n",
       "    </tr>\n",
       "    <tr>\n",
       "      <th>103709</th>\n",
       "      <td>NZAA</td>\n",
       "      <td>2020-12-30 22:00</td>\n",
       "      <td>19.0</td>\n",
       "      <td>14.0</td>\n",
       "      <td>72.74</td>\n",
       "      <td>6.0</td>\n",
       "      <td>NaN</td>\n",
       "      <td>NaN</td>\n",
       "    </tr>\n",
       "    <tr>\n",
       "      <th>103710</th>\n",
       "      <td>NZAA</td>\n",
       "      <td>2020-12-30 22:30</td>\n",
       "      <td>20.0</td>\n",
       "      <td>14.0</td>\n",
       "      <td>68.35</td>\n",
       "      <td>6.0</td>\n",
       "      <td>NaN</td>\n",
       "      <td>NaN</td>\n",
       "    </tr>\n",
       "    <tr>\n",
       "      <th>103711</th>\n",
       "      <td>NZAA</td>\n",
       "      <td>2020-12-30 23:00</td>\n",
       "      <td>20.0</td>\n",
       "      <td>14.0</td>\n",
       "      <td>68.35</td>\n",
       "      <td>7.0</td>\n",
       "      <td>NaN</td>\n",
       "      <td>NaN</td>\n",
       "    </tr>\n",
       "    <tr>\n",
       "      <th>103712</th>\n",
       "      <td>NZAA</td>\n",
       "      <td>2020-12-30 23:30</td>\n",
       "      <td>22.0</td>\n",
       "      <td>14.0</td>\n",
       "      <td>60.44</td>\n",
       "      <td>6.0</td>\n",
       "      <td>NaN</td>\n",
       "      <td>NaN</td>\n",
       "    </tr>\n",
       "  </tbody>\n",
       "</table>\n",
       "</div>"
      ],
      "text/plain": [
       "        station             valid  tmpc  dwpc   relh  sknt  gust  \\\n",
       "103708     NZAA  2020-12-30 21:30  19.0  14.0  72.74   5.0   NaN   \n",
       "103709     NZAA  2020-12-30 22:00  19.0  14.0  72.74   6.0   NaN   \n",
       "103710     NZAA  2020-12-30 22:30  20.0  14.0  68.35   6.0   NaN   \n",
       "103711     NZAA  2020-12-30 23:00  20.0  14.0  68.35   7.0   NaN   \n",
       "103712     NZAA  2020-12-30 23:30  22.0  14.0  60.44   6.0   NaN   \n",
       "\n",
       "        peak_wind_drct  \n",
       "103708             NaN  \n",
       "103709             NaN  \n",
       "103710             NaN  \n",
       "103711             NaN  \n",
       "103712             NaN  "
      ]
     },
     "execution_count": 6,
     "metadata": {},
     "output_type": "execute_result"
    }
   ],
   "source": [
    "dataset.tail()"
   ]
  },
  {
   "cell_type": "code",
   "execution_count": 7,
   "metadata": {
    "colab": {
     "base_uri": "https://localhost:8080/"
    },
    "id": "iOEbF8TpqHts",
    "outputId": "3c71a42f-ce43-4a1f-99b3-ee25fd31bf92"
   },
   "outputs": [
    {
     "data": {
      "text/plain": [
       " station           object\n",
       "valid              object\n",
       "tmpc              float64\n",
       "dwpc              float64\n",
       "relh              float64\n",
       "sknt              float64\n",
       "gust              float64\n",
       "peak_wind_drct    float64\n",
       "dtype: object"
      ]
     },
     "execution_count": 7,
     "metadata": {},
     "output_type": "execute_result"
    }
   ],
   "source": [
    "dataset.dtypes"
   ]
  },
  {
   "cell_type": "code",
   "execution_count": 8,
   "metadata": {
    "colab": {
     "base_uri": "https://localhost:8080/"
    },
    "id": "sDwlQc3lqIs2",
    "outputId": "29caf7f0-a2d5-423b-ed39-b0d3a4739440"
   },
   "outputs": [
    {
     "data": {
      "text/plain": [
       " station               0\n",
       "valid                  0\n",
       "tmpc                  35\n",
       "dwpc                  35\n",
       "relh                 120\n",
       "sknt                   9\n",
       "gust              102510\n",
       "peak_wind_drct    103713\n",
       "dtype: int64"
      ]
     },
     "execution_count": 8,
     "metadata": {},
     "output_type": "execute_result"
    }
   ],
   "source": [
    "dataset.isnull().sum()"
   ]
  },
  {
   "cell_type": "code",
   "execution_count": 9,
   "metadata": {
    "colab": {
     "base_uri": "https://localhost:8080/"
    },
    "id": "iq0oal8sqZRN",
    "outputId": "400827b3-9288-4ef5-fbce-29455a2e3ca0"
   },
   "outputs": [
    {
     "name": "stdout",
     "output_type": "stream",
     "text": [
      "Percent missing: gust  98.84006826530907\n",
      "Percent missing: peak_wind_drct  100.0\n"
     ]
    }
   ],
   "source": [
    "print(\"Percent missing: gust \", dataset[\"gust\"].isnull().sum() / len(dataset) *100)\n",
    "print(\"Percent missing: peak_wind_drct \", dataset[\"peak_wind_drct\"].isnull().sum() / len(dataset) *100)"
   ]
  },
  {
   "cell_type": "markdown",
   "metadata": {
    "id": "3DvOGTerqWOh"
   },
   "source": [
    "We see that peak wind and gust are empty/ missing a large amount of data so we can remove those columns.\n"
   ]
  },
  {
   "cell_type": "markdown",
   "metadata": {
    "id": "HWjAc7VBF7gc"
   },
   "source": [
    "Dataset Mean"
   ]
  },
  {
   "cell_type": "code",
   "execution_count": 10,
   "metadata": {
    "colab": {
     "base_uri": "https://localhost:8080/"
    },
    "id": "JSxPhGBUINh5",
    "outputId": "dc919836-34fb-45c5-f26c-eb0d1c9b05ad"
   },
   "outputs": [
    {
     "data": {
      "text/plain": [
       "tmpc    15.811503\n",
       "dwpc    12.115772\n",
       "relh    79.782307\n",
       "sknt     8.919029\n",
       "dtype: float64"
      ]
     },
     "execution_count": 10,
     "metadata": {},
     "output_type": "execute_result"
    }
   ],
   "source": [
    "dataset[[\"tmpc\",\"dwpc\", \"relh\", \"sknt\"]].mean().head()"
   ]
  },
  {
   "cell_type": "markdown",
   "metadata": {
    "id": "2L3QQXDcF94B"
   },
   "source": [
    "Dataset Standard Deviation"
   ]
  },
  {
   "cell_type": "code",
   "execution_count": 11,
   "metadata": {
    "colab": {
     "base_uri": "https://localhost:8080/"
    },
    "id": "2XR-zczBItB8",
    "outputId": "eba25929-f08b-4a2a-9266-3c6bd4369e00"
   },
   "outputs": [
    {
     "data": {
      "text/plain": [
       "tmpc     4.235197\n",
       "dwpc     3.738005\n",
       "relh    12.562199\n",
       "sknt     5.348379\n",
       "dtype: float64"
      ]
     },
     "execution_count": 11,
     "metadata": {},
     "output_type": "execute_result"
    }
   ],
   "source": [
    "dataset[[\"tmpc\",\"dwpc\", \"relh\", \"sknt\"]].std().head()"
   ]
  },
  {
   "cell_type": "markdown",
   "metadata": {
    "id": "x7WknS6CGAEI"
   },
   "source": [
    "Dataset 10th and 90th Percentile range"
   ]
  },
  {
   "cell_type": "code",
   "execution_count": 12,
   "metadata": {
    "colab": {
     "base_uri": "https://localhost:8080/",
     "height": 112
    },
    "id": "Lhaf8G0XI3v4",
    "outputId": "269a3c40-2f74-45aa-cdd0-926dfde5f0f6"
   },
   "outputs": [
    {
     "data": {
      "text/html": [
       "<div>\n",
       "<style scoped>\n",
       "    .dataframe tbody tr th:only-of-type {\n",
       "        vertical-align: middle;\n",
       "    }\n",
       "\n",
       "    .dataframe tbody tr th {\n",
       "        vertical-align: top;\n",
       "    }\n",
       "\n",
       "    .dataframe thead th {\n",
       "        text-align: right;\n",
       "    }\n",
       "</style>\n",
       "<table border=\"1\" class=\"dataframe\">\n",
       "  <thead>\n",
       "    <tr style=\"text-align: right;\">\n",
       "      <th></th>\n",
       "      <th>tmpc</th>\n",
       "      <th>dwpc</th>\n",
       "      <th>relh</th>\n",
       "      <th>sknt</th>\n",
       "    </tr>\n",
       "  </thead>\n",
       "  <tbody>\n",
       "    <tr>\n",
       "      <th>0.1</th>\n",
       "      <td>11.0</td>\n",
       "      <td>7.0</td>\n",
       "      <td>62.69</td>\n",
       "      <td>3.0</td>\n",
       "    </tr>\n",
       "    <tr>\n",
       "      <th>0.9</th>\n",
       "      <td>21.0</td>\n",
       "      <td>17.0</td>\n",
       "      <td>93.83</td>\n",
       "      <td>16.0</td>\n",
       "    </tr>\n",
       "  </tbody>\n",
       "</table>\n",
       "</div>"
      ],
      "text/plain": [
       "     tmpc  dwpc   relh  sknt\n",
       "0.1  11.0   7.0  62.69   3.0\n",
       "0.9  21.0  17.0  93.83  16.0"
      ]
     },
     "execution_count": 12,
     "metadata": {},
     "output_type": "execute_result"
    }
   ],
   "source": [
    "dataset[[\"tmpc\",\"dwpc\", \"relh\", \"sknt\"]].quantile([.1, .9]).head()"
   ]
  },
  {
   "cell_type": "markdown",
   "metadata": {
    "id": "IvEDgGCuGLC5"
   },
   "source": [
    "Dataset Correlation Plot"
   ]
  },
  {
   "cell_type": "code",
   "execution_count": 13,
   "metadata": {
    "colab": {
     "base_uri": "https://localhost:8080/",
     "height": 307
    },
    "id": "HgMTsvBrJFdU",
    "outputId": "4954628d-5cfa-4e19-ced6-6577c60a3740"
   },
   "outputs": [
    {
     "name": "stderr",
     "output_type": "stream",
     "text": [
      "C:\\Users\\jordan\\anaconda3\\lib\\site-packages\\pandas\\io\\formats\\style.py:3554: RuntimeWarning: All-NaN slice encountered\n",
      "  smin = np.nanmin(gmap) if vmin is None else vmin\n",
      "C:\\Users\\jordan\\anaconda3\\lib\\site-packages\\pandas\\io\\formats\\style.py:3555: RuntimeWarning: All-NaN slice encountered\n",
      "  smax = np.nanmax(gmap) if vmax is None else vmax\n"
     ]
    },
    {
     "data": {
      "text/html": [
       "<style type=\"text/css\">\n",
       "#T_54877_row0_col0, #T_54877_row1_col1, #T_54877_row2_col2, #T_54877_row3_col3, #T_54877_row4_col4 {\n",
       "  background-color: #b40426;\n",
       "  color: #f1f1f1;\n",
       "}\n",
       "#T_54877_row0_col1 {\n",
       "  background-color: #e97a5f;\n",
       "  color: #f1f1f1;\n",
       "}\n",
       "#T_54877_row0_col2, #T_54877_row0_col4, #T_54877_row2_col0, #T_54877_row2_col3, #T_54877_row4_col1 {\n",
       "  background-color: #3b4cc0;\n",
       "  color: #f1f1f1;\n",
       "}\n",
       "#T_54877_row0_col3 {\n",
       "  background-color: #d2dbe8;\n",
       "  color: #000000;\n",
       "}\n",
       "#T_54877_row0_col5, #T_54877_row1_col5, #T_54877_row2_col5, #T_54877_row3_col5, #T_54877_row4_col5, #T_54877_row5_col0, #T_54877_row5_col1, #T_54877_row5_col2, #T_54877_row5_col3, #T_54877_row5_col4, #T_54877_row5_col5 {\n",
       "  background-color: #000000;\n",
       "  color: #f1f1f1;\n",
       "}\n",
       "#T_54877_row1_col0 {\n",
       "  background-color: #e26952;\n",
       "  color: #f1f1f1;\n",
       "}\n",
       "#T_54877_row1_col2 {\n",
       "  background-color: #cad8ef;\n",
       "  color: #000000;\n",
       "}\n",
       "#T_54877_row1_col3, #T_54877_row2_col1 {\n",
       "  background-color: #9abbff;\n",
       "  color: #000000;\n",
       "}\n",
       "#T_54877_row1_col4 {\n",
       "  background-color: #3e51c5;\n",
       "  color: #f1f1f1;\n",
       "}\n",
       "#T_54877_row2_col4 {\n",
       "  background-color: #6180e9;\n",
       "  color: #f1f1f1;\n",
       "}\n",
       "#T_54877_row3_col0 {\n",
       "  background-color: #d6dce4;\n",
       "  color: #000000;\n",
       "}\n",
       "#T_54877_row3_col1 {\n",
       "  background-color: #6282ea;\n",
       "  color: #f1f1f1;\n",
       "}\n",
       "#T_54877_row3_col2 {\n",
       "  background-color: #4257c9;\n",
       "  color: #f1f1f1;\n",
       "}\n",
       "#T_54877_row3_col4 {\n",
       "  background-color: #c0282f;\n",
       "  color: #f1f1f1;\n",
       "}\n",
       "#T_54877_row4_col0 {\n",
       "  background-color: #799cf8;\n",
       "  color: #f1f1f1;\n",
       "}\n",
       "#T_54877_row4_col2 {\n",
       "  background-color: #9dbdff;\n",
       "  color: #000000;\n",
       "}\n",
       "#T_54877_row4_col3 {\n",
       "  background-color: #bd1f2d;\n",
       "  color: #f1f1f1;\n",
       "}\n",
       "</style>\n",
       "<table id=\"T_54877\">\n",
       "  <thead>\n",
       "    <tr>\n",
       "      <th class=\"blank level0\" >&nbsp;</th>\n",
       "      <th id=\"T_54877_level0_col0\" class=\"col_heading level0 col0\" >tmpc</th>\n",
       "      <th id=\"T_54877_level0_col1\" class=\"col_heading level0 col1\" >dwpc</th>\n",
       "      <th id=\"T_54877_level0_col2\" class=\"col_heading level0 col2\" >relh</th>\n",
       "      <th id=\"T_54877_level0_col3\" class=\"col_heading level0 col3\" >sknt</th>\n",
       "      <th id=\"T_54877_level0_col4\" class=\"col_heading level0 col4\" >gust</th>\n",
       "      <th id=\"T_54877_level0_col5\" class=\"col_heading level0 col5\" >peak_wind_drct</th>\n",
       "    </tr>\n",
       "  </thead>\n",
       "  <tbody>\n",
       "    <tr>\n",
       "      <th id=\"T_54877_level0_row0\" class=\"row_heading level0 row0\" >tmpc</th>\n",
       "      <td id=\"T_54877_row0_col0\" class=\"data row0 col0\" >1.000000</td>\n",
       "      <td id=\"T_54877_row0_col1\" class=\"data row0 col1\" >0.795403</td>\n",
       "      <td id=\"T_54877_row0_col2\" class=\"data row0 col2\" >-0.451405</td>\n",
       "      <td id=\"T_54877_row0_col3\" class=\"data row0 col3\" >0.235222</td>\n",
       "      <td id=\"T_54877_row0_col4\" class=\"data row0 col4\" >-0.168029</td>\n",
       "      <td id=\"T_54877_row0_col5\" class=\"data row0 col5\" >nan</td>\n",
       "    </tr>\n",
       "    <tr>\n",
       "      <th id=\"T_54877_level0_row1\" class=\"row_heading level0 row1\" >dwpc</th>\n",
       "      <td id=\"T_54877_row1_col0\" class=\"data row1 col0\" >0.795403</td>\n",
       "      <td id=\"T_54877_row1_col1\" class=\"data row1 col1\" >1.000000</td>\n",
       "      <td id=\"T_54877_row1_col2\" class=\"data row1 col2\" >0.177898</td>\n",
       "      <td id=\"T_54877_row1_col3\" class=\"data row1 col3\" >-0.007093</td>\n",
       "      <td id=\"T_54877_row1_col4\" class=\"data row1 col4\" >-0.153984</td>\n",
       "      <td id=\"T_54877_row1_col5\" class=\"data row1 col5\" >nan</td>\n",
       "    </tr>\n",
       "    <tr>\n",
       "      <th id=\"T_54877_level0_row2\" class=\"row_heading level0 row2\" >relh</th>\n",
       "      <td id=\"T_54877_row2_col0\" class=\"data row2 col0\" >-0.451405</td>\n",
       "      <td id=\"T_54877_row2_col1\" class=\"data row2 col1\" >0.177898</td>\n",
       "      <td id=\"T_54877_row2_col2\" class=\"data row2 col2\" >1.000000</td>\n",
       "      <td id=\"T_54877_row2_col3\" class=\"data row2 col3\" >-0.414763</td>\n",
       "      <td id=\"T_54877_row2_col4\" class=\"data row2 col4\" >-0.025576</td>\n",
       "      <td id=\"T_54877_row2_col5\" class=\"data row2 col5\" >nan</td>\n",
       "    </tr>\n",
       "    <tr>\n",
       "      <th id=\"T_54877_level0_row3\" class=\"row_heading level0 row3\" >sknt</th>\n",
       "      <td id=\"T_54877_row3_col0\" class=\"data row3 col0\" >0.235222</td>\n",
       "      <td id=\"T_54877_row3_col1\" class=\"data row3 col1\" >-0.007093</td>\n",
       "      <td id=\"T_54877_row3_col2\" class=\"data row3 col2\" >-0.414763</td>\n",
       "      <td id=\"T_54877_row3_col3\" class=\"data row3 col3\" >1.000000</td>\n",
       "      <td id=\"T_54877_row3_col4\" class=\"data row3 col4\" >0.962926</td>\n",
       "      <td id=\"T_54877_row3_col5\" class=\"data row3 col5\" >nan</td>\n",
       "    </tr>\n",
       "    <tr>\n",
       "      <th id=\"T_54877_level0_row4\" class=\"row_heading level0 row4\" >gust</th>\n",
       "      <td id=\"T_54877_row4_col0\" class=\"data row4 col0\" >-0.168029</td>\n",
       "      <td id=\"T_54877_row4_col1\" class=\"data row4 col1\" >-0.153984</td>\n",
       "      <td id=\"T_54877_row4_col2\" class=\"data row4 col2\" >-0.025576</td>\n",
       "      <td id=\"T_54877_row4_col3\" class=\"data row4 col3\" >0.962926</td>\n",
       "      <td id=\"T_54877_row4_col4\" class=\"data row4 col4\" >1.000000</td>\n",
       "      <td id=\"T_54877_row4_col5\" class=\"data row4 col5\" >nan</td>\n",
       "    </tr>\n",
       "    <tr>\n",
       "      <th id=\"T_54877_level0_row5\" class=\"row_heading level0 row5\" >peak_wind_drct</th>\n",
       "      <td id=\"T_54877_row5_col0\" class=\"data row5 col0\" >nan</td>\n",
       "      <td id=\"T_54877_row5_col1\" class=\"data row5 col1\" >nan</td>\n",
       "      <td id=\"T_54877_row5_col2\" class=\"data row5 col2\" >nan</td>\n",
       "      <td id=\"T_54877_row5_col3\" class=\"data row5 col3\" >nan</td>\n",
       "      <td id=\"T_54877_row5_col4\" class=\"data row5 col4\" >nan</td>\n",
       "      <td id=\"T_54877_row5_col5\" class=\"data row5 col5\" >nan</td>\n",
       "    </tr>\n",
       "  </tbody>\n",
       "</table>\n"
      ],
      "text/plain": [
       "<pandas.io.formats.style.Styler at 0x1e848133eb0>"
      ]
     },
     "execution_count": 13,
     "metadata": {},
     "output_type": "execute_result"
    }
   ],
   "source": [
    "corr = dataset.corr()\n",
    "\n",
    "corr.style.background_gradient(cmap='coolwarm')"
   ]
  },
  {
   "cell_type": "markdown",
   "metadata": {
    "id": "zThpRWxIJ-AA"
   },
   "source": [
    "We can see that this is a positive correlation between dew and temp, gust and windspeed and negative correlation between humidity in air and temperature and humidity and windspeed."
   ]
  },
  {
   "cell_type": "markdown",
   "metadata": {
    "id": "o_y6kZ28GTCJ"
   },
   "source": [
    " Graphing any Numerical Sections of the dataset.\n",
    "\n",
    "randomly sampled 100 for runtime with same random_state. Produces even amounts."
   ]
  },
  {
   "cell_type": "code",
   "execution_count": 14,
   "metadata": {
    "colab": {
     "base_uri": "https://localhost:8080/",
     "height": 580
    },
    "id": "gX2fzU93KeU3",
    "outputId": "5d7a287f-c546-4e72-ad0e-fba6130262c6"
   },
   "outputs": [
    {
     "data": {
      "text/plain": [
       "<AxesSubplot:>"
      ]
     },
     "execution_count": 14,
     "metadata": {},
     "output_type": "execute_result"
    },
    {
     "data": {
      "image/png": "[encoded data removed]",
      "text/plain": [
       "<Figure size 432x288 with 1 Axes>"
      ]
     },
     "metadata": {
      "needs_background": "light"
     },
     "output_type": "display_data"
    }
   ],
   "source": [
    "dataset_t_graph = dataset[\"tmpc\"].sample(n=100, random_state = 1).plot(kind = \"bar\", color = 'blue')\n",
    "dataset_t_graph"
   ]
  },
  {
   "cell_type": "code",
   "execution_count": 15,
   "metadata": {},
   "outputs": [
    {
     "data": {
      "text/plain": [
       "<AxesSubplot:>"
      ]
     },
     "execution_count": 15,
     "metadata": {},
     "output_type": "execute_result"
    },
    {
     "data": {
      "image/png": "[encoded data removed]",
      "text/plain": [
       "<Figure size 432x288 with 1 Axes>"
      ]
     },
     "metadata": {
      "needs_background": "light"
     },
     "output_type": "display_data"
    }
   ],
   "source": [
    "dataset_d_graph = dataset[\"dwpc\"].sample(n=100, random_state = 1).plot(kind = \"bar\", color = 'blue')\n",
    "dataset_d_graph"
   ]
  },
  {
   "cell_type": "code",
   "execution_count": 16,
   "metadata": {},
   "outputs": [
    {
     "data": {
      "text/plain": [
       "<AxesSubplot:>"
      ]
     },
     "execution_count": 16,
     "metadata": {},
     "output_type": "execute_result"
    },
    {
     "data": {
      "image/png": "[encoded data removed]",
      "text/plain": [
       "<Figure size 432x288 with 1 Axes>"
      ]
     },
     "metadata": {
      "needs_background": "light"
     },
     "output_type": "display_data"
    }
   ],
   "source": [
    "dataset_r_graph = dataset[\"relh\"].sample(n=100, random_state = 1).plot(kind = \"bar\", color = 'blue')\n",
    "dataset_r_graph"
   ]
  },
  {
   "cell_type": "code",
   "execution_count": 17,
   "metadata": {},
   "outputs": [
    {
     "data": {
      "text/plain": [
       "<AxesSubplot:>"
      ]
     },
     "execution_count": 17,
     "metadata": {},
     "output_type": "execute_result"
    },
    {
     "data": {
      "image/png": "[encoded data removed]",
      "text/plain": [
       "<Figure size 432x288 with 1 Axes>"
      ]
     },
     "metadata": {
      "needs_background": "light"
     },
     "output_type": "display_data"
    }
   ],
   "source": [
    "dataset_s_graph = dataset[\"sknt\"].sample(n=100, random_state = 1).plot(kind = \"bar\", color = 'blue')\n",
    "dataset_s_graph"
   ]
  },
  {
   "cell_type": "markdown",
   "metadata": {
    "id": "2tV6ON_jHAmz"
   },
   "source": [
    "**Part 2 - Data Preparation**"
   ]
  },
  {
   "cell_type": "code",
   "execution_count": 18,
   "metadata": {
    "colab": {
     "base_uri": "https://localhost:8080/",
     "height": 424
    },
    "id": "YgYjZpgMUU5S",
    "outputId": "bbb909aa-883f-4cbd-b74e-499ecdfec859"
   },
   "outputs": [
    {
     "data": {
      "text/html": [
       "<div>\n",
       "<style scoped>\n",
       "    .dataframe tbody tr th:only-of-type {\n",
       "        vertical-align: middle;\n",
       "    }\n",
       "\n",
       "    .dataframe tbody tr th {\n",
       "        vertical-align: top;\n",
       "    }\n",
       "\n",
       "    .dataframe thead th {\n",
       "        text-align: right;\n",
       "    }\n",
       "</style>\n",
       "<table border=\"1\" class=\"dataframe\">\n",
       "  <thead>\n",
       "    <tr style=\"text-align: right;\">\n",
       "      <th></th>\n",
       "      <th>valid</th>\n",
       "      <th>dwpc</th>\n",
       "      <th>relh</th>\n",
       "      <th>sknt</th>\n",
       "      <th>tmpc</th>\n",
       "    </tr>\n",
       "  </thead>\n",
       "  <tbody>\n",
       "    <tr>\n",
       "      <th>0</th>\n",
       "      <td>2015-01-01 00:00</td>\n",
       "      <td>11.0</td>\n",
       "      <td>52.77</td>\n",
       "      <td>15.0</td>\n",
       "      <td>21.0</td>\n",
       "    </tr>\n",
       "    <tr>\n",
       "      <th>1</th>\n",
       "      <td>2015-01-01 00:30</td>\n",
       "      <td>10.0</td>\n",
       "      <td>49.37</td>\n",
       "      <td>16.0</td>\n",
       "      <td>21.0</td>\n",
       "    </tr>\n",
       "    <tr>\n",
       "      <th>2</th>\n",
       "      <td>2015-01-01 01:00</td>\n",
       "      <td>12.0</td>\n",
       "      <td>56.38</td>\n",
       "      <td>16.0</td>\n",
       "      <td>21.0</td>\n",
       "    </tr>\n",
       "    <tr>\n",
       "      <th>3</th>\n",
       "      <td>2015-01-01 01:30</td>\n",
       "      <td>13.0</td>\n",
       "      <td>60.21</td>\n",
       "      <td>16.0</td>\n",
       "      <td>21.0</td>\n",
       "    </tr>\n",
       "    <tr>\n",
       "      <th>4</th>\n",
       "      <td>2015-01-01 02:00</td>\n",
       "      <td>12.0</td>\n",
       "      <td>56.38</td>\n",
       "      <td>16.0</td>\n",
       "      <td>21.0</td>\n",
       "    </tr>\n",
       "  </tbody>\n",
       "</table>\n",
       "</div>"
      ],
      "text/plain": [
       "              valid  dwpc   relh  sknt  tmpc\n",
       "0  2015-01-01 00:00  11.0  52.77  15.0  21.0\n",
       "1  2015-01-01 00:30  10.0  49.37  16.0  21.0\n",
       "2  2015-01-01 01:00  12.0  56.38  16.0  21.0\n",
       "3  2015-01-01 01:30  13.0  60.21  16.0  21.0\n",
       "4  2015-01-01 02:00  12.0  56.38  16.0  21.0"
      ]
     },
     "execution_count": 18,
     "metadata": {},
     "output_type": "execute_result"
    }
   ],
   "source": [
    "new_dataset = dataset[[\"valid\",\"dwpc\", \"relh\", \"sknt\", \"tmpc\"]]\n",
    "new_dataset.head()"
   ]
  },
  {
   "cell_type": "markdown",
   "metadata": {
    "id": "UmcU4PQGGrUW"
   },
   "source": [
    " Dataset converted to a form that a model can use."
   ]
  },
  {
   "cell_type": "code",
   "execution_count": 19,
   "metadata": {
    "colab": {
     "base_uri": "https://localhost:8080/",
     "height": 206
    },
    "id": "VU4u0qVN_bTz",
    "outputId": "63fd3344-e5e3-4937-f630-996e71efc51f"
   },
   "outputs": [
    {
     "name": "stderr",
     "output_type": "stream",
     "text": [
      "C:\\Users\\jordan\\AppData\\Local\\Temp\\ipykernel_10432\\2093037686.py:1: SettingWithCopyWarning: \n",
      "A value is trying to be set on a copy of a slice from a DataFrame.\n",
      "Try using .loc[row_indexer,col_indexer] = value instead\n",
      "\n",
      "See the caveats in the documentation: https://pandas.pydata.org/pandas-docs/stable/user_guide/indexing.html#returning-a-view-versus-a-copy\n",
      "  new_dataset['valid'] = pd.to_datetime(new_dataset['valid'])\n",
      "C:\\Users\\jordan\\AppData\\Local\\Temp\\ipykernel_10432\\2093037686.py:4: SettingWithCopyWarning: \n",
      "A value is trying to be set on a copy of a slice from a DataFrame.\n",
      "Try using .loc[row_indexer,col_indexer] = value instead\n",
      "\n",
      "See the caveats in the documentation: https://pandas.pydata.org/pandas-docs/stable/user_guide/indexing.html#returning-a-view-versus-a-copy\n",
      "  new_dataset['day'] = new_dataset['valid'].dt.day\n",
      "C:\\Users\\jordan\\AppData\\Local\\Temp\\ipykernel_10432\\2093037686.py:5: SettingWithCopyWarning: \n",
      "A value is trying to be set on a copy of a slice from a DataFrame.\n",
      "Try using .loc[row_indexer,col_indexer] = value instead\n",
      "\n",
      "See the caveats in the documentation: https://pandas.pydata.org/pandas-docs/stable/user_guide/indexing.html#returning-a-view-versus-a-copy\n",
      "  new_dataset['month'] = new_dataset['valid'].dt.month\n"
     ]
    },
    {
     "data": {
      "text/html": [
       "<div>\n",
       "<style scoped>\n",
       "    .dataframe tbody tr th:only-of-type {\n",
       "        vertical-align: middle;\n",
       "    }\n",
       "\n",
       "    .dataframe tbody tr th {\n",
       "        vertical-align: top;\n",
       "    }\n",
       "\n",
       "    .dataframe thead th {\n",
       "        text-align: right;\n",
       "    }\n",
       "</style>\n",
       "<table border=\"1\" class=\"dataframe\">\n",
       "  <thead>\n",
       "    <tr style=\"text-align: right;\">\n",
       "      <th></th>\n",
       "      <th>tmpc</th>\n",
       "      <th>dwpc</th>\n",
       "      <th>relh</th>\n",
       "      <th>sknt</th>\n",
       "      <th>day</th>\n",
       "      <th>month</th>\n",
       "      <th>year</th>\n",
       "      <th>hour</th>\n",
       "      <th>minute</th>\n",
       "    </tr>\n",
       "  </thead>\n",
       "  <tbody>\n",
       "    <tr>\n",
       "      <th>0</th>\n",
       "      <td>21.0</td>\n",
       "      <td>11.0</td>\n",
       "      <td>52.77</td>\n",
       "      <td>15.0</td>\n",
       "      <td>1</td>\n",
       "      <td>1</td>\n",
       "      <td>2015</td>\n",
       "      <td>0</td>\n",
       "      <td>0</td>\n",
       "    </tr>\n",
       "    <tr>\n",
       "      <th>1</th>\n",
       "      <td>21.0</td>\n",
       "      <td>10.0</td>\n",
       "      <td>49.37</td>\n",
       "      <td>16.0</td>\n",
       "      <td>1</td>\n",
       "      <td>1</td>\n",
       "      <td>2015</td>\n",
       "      <td>0</td>\n",
       "      <td>30</td>\n",
       "    </tr>\n",
       "    <tr>\n",
       "      <th>2</th>\n",
       "      <td>21.0</td>\n",
       "      <td>12.0</td>\n",
       "      <td>56.38</td>\n",
       "      <td>16.0</td>\n",
       "      <td>1</td>\n",
       "      <td>1</td>\n",
       "      <td>2015</td>\n",
       "      <td>1</td>\n",
       "      <td>0</td>\n",
       "    </tr>\n",
       "    <tr>\n",
       "      <th>3</th>\n",
       "      <td>21.0</td>\n",
       "      <td>13.0</td>\n",
       "      <td>60.21</td>\n",
       "      <td>16.0</td>\n",
       "      <td>1</td>\n",
       "      <td>1</td>\n",
       "      <td>2015</td>\n",
       "      <td>1</td>\n",
       "      <td>30</td>\n",
       "    </tr>\n",
       "    <tr>\n",
       "      <th>4</th>\n",
       "      <td>21.0</td>\n",
       "      <td>12.0</td>\n",
       "      <td>56.38</td>\n",
       "      <td>16.0</td>\n",
       "      <td>1</td>\n",
       "      <td>1</td>\n",
       "      <td>2015</td>\n",
       "      <td>2</td>\n",
       "      <td>0</td>\n",
       "    </tr>\n",
       "  </tbody>\n",
       "</table>\n",
       "</div>"
      ],
      "text/plain": [
       "   tmpc  dwpc   relh  sknt  day  month  year  hour  minute\n",
       "0  21.0  11.0  52.77  15.0    1      1  2015     0       0\n",
       "1  21.0  10.0  49.37  16.0    1      1  2015     0      30\n",
       "2  21.0  12.0  56.38  16.0    1      1  2015     1       0\n",
       "3  21.0  13.0  60.21  16.0    1      1  2015     1      30\n",
       "4  21.0  12.0  56.38  16.0    1      1  2015     2       0"
      ]
     },
     "execution_count": 19,
     "metadata": {},
     "output_type": "execute_result"
    }
   ],
   "source": [
    "new_dataset['valid'] = pd.to_datetime(new_dataset['valid'])\n",
    "\n",
    "# Create new columns\n",
    "new_dataset['day'] = new_dataset['valid'].dt.day\n",
    "new_dataset['month'] = new_dataset['valid'].dt.month\n",
    "new_dataset['year'] = new_dataset['valid'].dt.year\n",
    "new_dataset['hour'] = new_dataset['valid'].dt.hour\n",
    "new_dataset['minute'] = new_dataset['valid'].dt.minute\n",
    "new_dataset = new_dataset.drop(columns=['valid'])\n",
    "new_dataset.insert(0, 'tmpc', new_dataset.pop('tmpc'))\n",
    "\n",
    "new_dataset.head()"
   ]
  },
  {
   "cell_type": "markdown",
   "metadata": {
    "id": "5kkALoZLVqp5"
   },
   "source": [
    "Need to fill in NA values, going to impute with mean"
   ]
  },
  {
   "cell_type": "code",
   "execution_count": 20,
   "metadata": {
    "colab": {
     "base_uri": "https://localhost:8080/",
     "height": 261
    },
    "id": "VdJBb4TJnR7T",
    "outputId": "803b1e1f-e0e1-4301-ecb5-58bd53ad90a2",
    "scrolled": true
   },
   "outputs": [
    {
     "data": {
      "text/html": [
       "<div>\n",
       "<style scoped>\n",
       "    .dataframe tbody tr th:only-of-type {\n",
       "        vertical-align: middle;\n",
       "    }\n",
       "\n",
       "    .dataframe tbody tr th {\n",
       "        vertical-align: top;\n",
       "    }\n",
       "\n",
       "    .dataframe thead th {\n",
       "        text-align: right;\n",
       "    }\n",
       "</style>\n",
       "<table border=\"1\" class=\"dataframe\">\n",
       "  <thead>\n",
       "    <tr style=\"text-align: right;\">\n",
       "      <th></th>\n",
       "      <th>tmpc</th>\n",
       "      <th>dwpc</th>\n",
       "      <th>relh</th>\n",
       "      <th>sknt</th>\n",
       "      <th>day</th>\n",
       "      <th>month</th>\n",
       "      <th>year</th>\n",
       "      <th>hour</th>\n",
       "      <th>minute</th>\n",
       "    </tr>\n",
       "  </thead>\n",
       "  <tbody>\n",
       "    <tr>\n",
       "      <th>0</th>\n",
       "      <td>21.0</td>\n",
       "      <td>11.0</td>\n",
       "      <td>52.77</td>\n",
       "      <td>15.0</td>\n",
       "      <td>1</td>\n",
       "      <td>1</td>\n",
       "      <td>2015</td>\n",
       "      <td>0</td>\n",
       "      <td>0</td>\n",
       "    </tr>\n",
       "    <tr>\n",
       "      <th>1</th>\n",
       "      <td>21.0</td>\n",
       "      <td>10.0</td>\n",
       "      <td>49.37</td>\n",
       "      <td>16.0</td>\n",
       "      <td>1</td>\n",
       "      <td>1</td>\n",
       "      <td>2015</td>\n",
       "      <td>0</td>\n",
       "      <td>30</td>\n",
       "    </tr>\n",
       "    <tr>\n",
       "      <th>2</th>\n",
       "      <td>21.0</td>\n",
       "      <td>12.0</td>\n",
       "      <td>56.38</td>\n",
       "      <td>16.0</td>\n",
       "      <td>1</td>\n",
       "      <td>1</td>\n",
       "      <td>2015</td>\n",
       "      <td>1</td>\n",
       "      <td>0</td>\n",
       "    </tr>\n",
       "    <tr>\n",
       "      <th>3</th>\n",
       "      <td>21.0</td>\n",
       "      <td>13.0</td>\n",
       "      <td>60.21</td>\n",
       "      <td>16.0</td>\n",
       "      <td>1</td>\n",
       "      <td>1</td>\n",
       "      <td>2015</td>\n",
       "      <td>1</td>\n",
       "      <td>30</td>\n",
       "    </tr>\n",
       "    <tr>\n",
       "      <th>4</th>\n",
       "      <td>21.0</td>\n",
       "      <td>12.0</td>\n",
       "      <td>56.38</td>\n",
       "      <td>16.0</td>\n",
       "      <td>1</td>\n",
       "      <td>1</td>\n",
       "      <td>2015</td>\n",
       "      <td>2</td>\n",
       "      <td>0</td>\n",
       "    </tr>\n",
       "  </tbody>\n",
       "</table>\n",
       "</div>"
      ],
      "text/plain": [
       "   tmpc  dwpc   relh  sknt  day  month  year  hour  minute\n",
       "0  21.0  11.0  52.77  15.0    1      1  2015     0       0\n",
       "1  21.0  10.0  49.37  16.0    1      1  2015     0      30\n",
       "2  21.0  12.0  56.38  16.0    1      1  2015     1       0\n",
       "3  21.0  13.0  60.21  16.0    1      1  2015     1      30\n",
       "4  21.0  12.0  56.38  16.0    1      1  2015     2       0"
      ]
     },
     "execution_count": 20,
     "metadata": {},
     "output_type": "execute_result"
    }
   ],
   "source": [
    "new_dataset2 = new_dataset.fillna(new_dataset.mean())\n",
    "new_dataset2.head()"
   ]
  },
  {
   "cell_type": "code",
   "execution_count": 21,
   "metadata": {
    "colab": {
     "base_uri": "https://localhost:8080/"
    },
    "id": "me20ljaYvrCs",
    "outputId": "d96e53f7-aabe-484e-c3f0-e6fe7a6d2975"
   },
   "outputs": [
    {
     "data": {
      "text/plain": [
       "tmpc      float64\n",
       "dwpc      float64\n",
       "relh      float64\n",
       "sknt      float64\n",
       "day         int64\n",
       "month       int64\n",
       "year        int64\n",
       "hour        int64\n",
       "minute      int64\n",
       "dtype: object"
      ]
     },
     "execution_count": 21,
     "metadata": {},
     "output_type": "execute_result"
    }
   ],
   "source": [
    "new_dataset2.dtypes"
   ]
  },
  {
   "cell_type": "markdown",
   "metadata": {
    "id": "HSQ-CdtvGzjE"
   },
   "source": [
    " Dataset train and test sets\n",
    "\n",
    "choosing tmpc as our target variable because it correlates to the other values the most. ( or do i split 80 20 on total set because we dont need one target and the target is date?)\n"
   ]
  },
  {
   "cell_type": "code",
   "execution_count": 22,
   "metadata": {
    "id": "UEmMfQc1Ud6T"
   },
   "outputs": [],
   "source": [
    "#sample to cut down total size of data for better runtime.\n",
    "train_test_dataset = new_dataset2.sample(n = 10000, random_state = 1)\n",
    "\n",
    "# get the locations\n",
    "X = train_test_dataset.iloc[:, 1:]\n",
    "y = train_test_dataset.iloc[:, 0]\n",
    "\n",
    "# split the dataset\n",
    "X_train, X_test, y_train, y_test = train_test_split(\n",
    "    X, y, test_size=0.20, random_state=0)"
   ]
  },
  {
   "cell_type": "code",
   "execution_count": 23,
   "metadata": {
    "colab": {
     "base_uri": "https://localhost:8080/",
     "height": 206
    },
    "id": "pXCHiYDNsgbf",
    "outputId": "ecf738a0-a982-41fe-f971-ad224e019d3a"
   },
   "outputs": [
    {
     "data": {
      "text/html": [
       "<div>\n",
       "<style scoped>\n",
       "    .dataframe tbody tr th:only-of-type {\n",
       "        vertical-align: middle;\n",
       "    }\n",
       "\n",
       "    .dataframe tbody tr th {\n",
       "        vertical-align: top;\n",
       "    }\n",
       "\n",
       "    .dataframe thead th {\n",
       "        text-align: right;\n",
       "    }\n",
       "</style>\n",
       "<table border=\"1\" class=\"dataframe\">\n",
       "  <thead>\n",
       "    <tr style=\"text-align: right;\">\n",
       "      <th></th>\n",
       "      <th>dwpc</th>\n",
       "      <th>relh</th>\n",
       "      <th>sknt</th>\n",
       "      <th>day</th>\n",
       "      <th>month</th>\n",
       "      <th>year</th>\n",
       "      <th>hour</th>\n",
       "      <th>minute</th>\n",
       "    </tr>\n",
       "  </thead>\n",
       "  <tbody>\n",
       "    <tr>\n",
       "      <th>34471</th>\n",
       "      <td>18.0</td>\n",
       "      <td>93.92</td>\n",
       "      <td>8.0</td>\n",
       "      <td>10</td>\n",
       "      <td>1</td>\n",
       "      <td>2017</td>\n",
       "      <td>10</td>\n",
       "      <td>0</td>\n",
       "    </tr>\n",
       "    <tr>\n",
       "      <th>51183</th>\n",
       "      <td>14.0</td>\n",
       "      <td>87.92</td>\n",
       "      <td>5.0</td>\n",
       "      <td>30</td>\n",
       "      <td>12</td>\n",
       "      <td>2017</td>\n",
       "      <td>12</td>\n",
       "      <td>0</td>\n",
       "    </tr>\n",
       "    <tr>\n",
       "      <th>96271</th>\n",
       "      <td>7.0</td>\n",
       "      <td>100.00</td>\n",
       "      <td>3.0</td>\n",
       "      <td>28</td>\n",
       "      <td>7</td>\n",
       "      <td>2020</td>\n",
       "      <td>18</td>\n",
       "      <td>0</td>\n",
       "    </tr>\n",
       "    <tr>\n",
       "      <th>43043</th>\n",
       "      <td>7.0</td>\n",
       "      <td>87.28</td>\n",
       "      <td>9.0</td>\n",
       "      <td>13</td>\n",
       "      <td>7</td>\n",
       "      <td>2017</td>\n",
       "      <td>19</td>\n",
       "      <td>0</td>\n",
       "    </tr>\n",
       "    <tr>\n",
       "      <th>57931</th>\n",
       "      <td>13.0</td>\n",
       "      <td>93.69</td>\n",
       "      <td>8.0</td>\n",
       "      <td>20</td>\n",
       "      <td>5</td>\n",
       "      <td>2018</td>\n",
       "      <td>19</td>\n",
       "      <td>0</td>\n",
       "    </tr>\n",
       "  </tbody>\n",
       "</table>\n",
       "</div>"
      ],
      "text/plain": [
       "       dwpc    relh  sknt  day  month  year  hour  minute\n",
       "34471  18.0   93.92   8.0   10      1  2017    10       0\n",
       "51183  14.0   87.92   5.0   30     12  2017    12       0\n",
       "96271   7.0  100.00   3.0   28      7  2020    18       0\n",
       "43043   7.0   87.28   9.0   13      7  2017    19       0\n",
       "57931  13.0   93.69   8.0   20      5  2018    19       0"
      ]
     },
     "execution_count": 23,
     "metadata": {},
     "output_type": "execute_result"
    }
   ],
   "source": [
    "X.head()"
   ]
  },
  {
   "cell_type": "code",
   "execution_count": 24,
   "metadata": {
    "colab": {
     "base_uri": "https://localhost:8080/"
    },
    "id": "hHGcxaa1sDe0",
    "outputId": "cafc9bd0-19af-4e99-db52-1c81795860d1"
   },
   "outputs": [
    {
     "data": {
      "text/plain": [
       "34471    19.0\n",
       "51183    16.0\n",
       "96271     7.0\n",
       "43043     9.0\n",
       "57931    14.0\n",
       "Name: tmpc, dtype: float64"
      ]
     },
     "execution_count": 24,
     "metadata": {},
     "output_type": "execute_result"
    }
   ],
   "source": [
    "y.head()"
   ]
  },
  {
   "cell_type": "code",
   "execution_count": 25,
   "metadata": {
    "colab": {
     "base_uri": "https://localhost:8080/"
    },
    "id": "LBC1XFJxdqiK",
    "outputId": "49bfb50f-f12f-4261-b422-6a8656aa6183"
   },
   "outputs": [
    {
     "name": "stdout",
     "output_type": "stream",
     "text": [
      "(10000, 8)\n",
      "(10000,)\n"
     ]
    }
   ],
   "source": [
    "print(X.shape)\n",
    "print(y.shape)\n",
    "\n"
   ]
  },
  {
   "cell_type": "code",
   "execution_count": 26,
   "metadata": {
    "colab": {
     "base_uri": "https://localhost:8080/"
    },
    "id": "U0OPe0mjdsa_",
    "outputId": "241ac5a8-4573-44a6-8b8a-25fae305ab7a"
   },
   "outputs": [
    {
     "name": "stdout",
     "output_type": "stream",
     "text": [
      "(8000, 8)\n",
      "(2000, 8)\n",
      "(8000,)\n",
      "(2000,)\n"
     ]
    }
   ],
   "source": [
    "print(X_train.shape)\n",
    "print(X_test.shape)\n",
    "print(y_train.shape)\n",
    "print(y_test.shape)"
   ]
  },
  {
   "cell_type": "markdown",
   "metadata": {
    "id": "I7zsNbmhHvum"
   },
   "source": [
    "**Ensure that you have also show some general information of the train/test dataset like in the EDA before entering the modelling stage.**"
   ]
  },
  {
   "cell_type": "markdown",
   "metadata": {
    "id": "4qeFxyvzeXKj"
   },
   "source": [
    "**Part 3 - Data Modelling**"
   ]
  },
  {
   "cell_type": "code",
   "execution_count": 27,
   "metadata": {
    "id": "x5Q5bKJ_l9up"
   },
   "outputs": [],
   "source": [
    "GBR = GradientBoostingRegressor()\n"
   ]
  },
  {
   "cell_type": "code",
   "execution_count": 28,
   "metadata": {
    "id": "fpYqp5n8l-UJ"
   },
   "outputs": [],
   "source": [
    "parameters = {'learning_rate': [0.01,0.02,0.03,0.04],\n",
    "                  'subsample'    : [0.9, 0.5, 0.2, 0.1],\n",
    "                  'n_estimators' : [10,20,50,100, 200],\n",
    "                  'max_depth'    : [4,6,8,10]\n",
    "                 }"
   ]
  },
  {
   "cell_type": "markdown",
   "metadata": {},
   "source": [
    "Training dataset fitted"
   ]
  },
  {
   "cell_type": "code",
   "execution_count": 29,
   "metadata": {
    "colab": {
     "base_uri": "https://localhost:8080/",
     "height": 380
    },
    "id": "lpnqHiJvmE3k",
    "outputId": "be0e3e40-b027-49a1-f3ab-b1b31f4ec03c"
   },
   "outputs": [
    {
     "name": "stdout",
     "output_type": "stream",
     "text": [
      " Results from Grid Search \n",
      "\n",
      " The best estimator across ALL searched params:\n",
      " GradientBoostingRegressor(learning_rate=0.04, max_depth=8, n_estimators=200,\n",
      "                          subsample=0.2)\n",
      "\n",
      " The best score across ALL searched params:\n",
      " 0.9991339480829843\n",
      "\n",
      " The best parameters across ALL searched params:\n",
      " {'learning_rate': 0.04, 'max_depth': 8, 'n_estimators': 200, 'subsample': 0.2}\n"
     ]
    }
   ],
   "source": [
    "grid_GBR = GridSearchCV(estimator=GBR, param_grid = parameters, cv = 2, n_jobs=-1)\n",
    "grid_GBR.fit(X_train, y_train)\n",
    "\n",
    "print(\" Results from Grid Search \" )\n",
    "print(\"\\n The best estimator across ALL searched params:\\n\",grid_GBR.best_estimator_)\n",
    "print(\"\\n The best score across ALL searched params:\\n\",grid_GBR.best_score_)\n",
    "print(\"\\n The best parameters across ALL searched params:\\n\",grid_GBR.best_params_)"
   ]
  },
  {
   "cell_type": "markdown",
   "metadata": {},
   "source": [
    "Testing dataset scored.\n",
    "Checking performance of base models by evaluating the cross-validation RMSLE error."
   ]
  },
  {
   "cell_type": "code",
   "execution_count": 30,
   "metadata": {},
   "outputs": [
    {
     "name": "stdout",
     "output_type": "stream",
     "text": [
      "R^2 Score: 0.9997525701595552\n",
      "RMSE Score: 0.06778935797465277\n"
     ]
    }
   ],
   "source": [
    "GBR = grid_GBR.best_estimator_\n",
    "GBR.fit(X_train, y_train)\n",
    "GBR_pred = GBR.predict(X_test)\n",
    "r2_GBR = r2_score(y_test, GBR_pred)\n",
    "rmse_GBR = np.sqrt(mean_squared_error(y_test, GBR_pred))\n",
    "print(\"R^2 Score: \" + str(r2_GBR))\n",
    "print(\"RMSE Score: \" + str(rmse_GBR))"
   ]
  },
  {
   "cell_type": "code",
   "execution_count": 31,
   "metadata": {
    "scrolled": false
   },
   "outputs": [
    {
     "name": "stdout",
     "output_type": "stream",
     "text": [
      "Cross Validation Score: 0.9995327540522222\n"
     ]
    }
   ],
   "source": [
    "scores_GBR = cross_val_score(GBR, X_train, y_train, cv=10, scoring=\"r2\")\n",
    "print(\"Cross Validation Score: \" + str(np.mean(scores_GBR)))"
   ]
  },
  {
   "cell_type": "markdown",
   "metadata": {},
   "source": [
    "Another month of the existing dataset predicted.\n",
    "Final date from df is 2020-12-30 23:30 so predictions will range from 2021-01-01 to 2021-01-30 23:30\n"
   ]
  },
  {
   "cell_type": "code",
   "execution_count": 32,
   "metadata": {
    "scrolled": false
   },
   "outputs": [
    {
     "name": "stderr",
     "output_type": "stream",
     "text": [
      "C:\\Users\\jordan\\anaconda3\\lib\\site-packages\\sklearn\\base.py:450: UserWarning: X does not have valid feature names, but GradientBoostingRegressor was fitted with feature names\n",
      "  warnings.warn(\n"
     ]
    },
    {
     "data": {
      "text/plain": [
       "array([13.00475174])"
      ]
     },
     "execution_count": 32,
     "metadata": {},
     "output_type": "execute_result"
    }
   ],
   "source": [
    "GBR.predict([[9.0,76.66,7.0,29,1,2021,9,30]])"
   ]
  },
  {
   "cell_type": "code",
   "execution_count": 33,
   "metadata": {},
   "outputs": [
    {
     "data": {
      "text/html": [
       "<div>\n",
       "<style scoped>\n",
       "    .dataframe tbody tr th:only-of-type {\n",
       "        vertical-align: middle;\n",
       "    }\n",
       "\n",
       "    .dataframe tbody tr th {\n",
       "        vertical-align: top;\n",
       "    }\n",
       "\n",
       "    .dataframe thead th {\n",
       "        text-align: right;\n",
       "    }\n",
       "</style>\n",
       "<table border=\"1\" class=\"dataframe\">\n",
       "  <thead>\n",
       "    <tr style=\"text-align: right;\">\n",
       "      <th></th>\n",
       "      <th>valid</th>\n",
       "      <th>dwpc</th>\n",
       "      <th>relh</th>\n",
       "      <th>sknt</th>\n",
       "    </tr>\n",
       "  </thead>\n",
       "  <tbody>\n",
       "    <tr>\n",
       "      <th>0</th>\n",
       "      <td>2020-12-31 00:00:00</td>\n",
       "      <td>10</td>\n",
       "      <td>34</td>\n",
       "      <td>3</td>\n",
       "    </tr>\n",
       "    <tr>\n",
       "      <th>1</th>\n",
       "      <td>2020-12-31 00:30:00</td>\n",
       "      <td>13</td>\n",
       "      <td>53</td>\n",
       "      <td>7</td>\n",
       "    </tr>\n",
       "    <tr>\n",
       "      <th>2</th>\n",
       "      <td>2020-12-31 01:00:00</td>\n",
       "      <td>19</td>\n",
       "      <td>31</td>\n",
       "      <td>27</td>\n",
       "    </tr>\n",
       "    <tr>\n",
       "      <th>3</th>\n",
       "      <td>2020-12-31 01:30:00</td>\n",
       "      <td>-2</td>\n",
       "      <td>57</td>\n",
       "      <td>2</td>\n",
       "    </tr>\n",
       "    <tr>\n",
       "      <th>4</th>\n",
       "      <td>2020-12-31 02:00:00</td>\n",
       "      <td>1</td>\n",
       "      <td>94</td>\n",
       "      <td>7</td>\n",
       "    </tr>\n",
       "  </tbody>\n",
       "</table>\n",
       "</div>"
      ],
      "text/plain": [
       "                valid  dwpc  relh  sknt\n",
       "0 2020-12-31 00:00:00    10    34     3\n",
       "1 2020-12-31 00:30:00    13    53     7\n",
       "2 2020-12-31 01:00:00    19    31    27\n",
       "3 2020-12-31 01:30:00    -2    57     2\n",
       "4 2020-12-31 02:00:00     1    94     7"
      ]
     },
     "execution_count": 33,
     "metadata": {},
     "output_type": "execute_result"
    }
   ],
   "source": [
    "#final date from df is 2020-12-30 23:30 so predictions will range from 2021-01-01 to 2021-01-30 23:30\n",
    "import random\n",
    "np.random.seed(0)\n",
    "# create an array of 5 dates starting at '2015-02-24', one per 30 minutes\n",
    "rng = pd.date_range('2020-12-31', periods=1536, freq='30T')\n",
    "prediction_df = pd.DataFrame({'valid': rng, \n",
    "                              'dwpc':  np.random.randint(low = dataset[\"dwpc\"].min(), high = dataset[\"dwpc\"].max(), size = len(rng)),\n",
    "                              'relh':  np.random.randint(low = dataset[\"relh\"].min(), high = dataset[\"relh\"].max(), size = len(rng)),\n",
    "                              'sknt':  np.random.randint(low = dataset[\"sknt\"].min(), high = dataset[\"sknt\"].max(), size = len(rng)),\n",
    "                             })\n",
    "prediction_df.head()"
   ]
  },
  {
   "cell_type": "code",
   "execution_count": 34,
   "metadata": {},
   "outputs": [
    {
     "data": {
      "text/html": [
       "<div>\n",
       "<style scoped>\n",
       "    .dataframe tbody tr th:only-of-type {\n",
       "        vertical-align: middle;\n",
       "    }\n",
       "\n",
       "    .dataframe tbody tr th {\n",
       "        vertical-align: top;\n",
       "    }\n",
       "\n",
       "    .dataframe thead th {\n",
       "        text-align: right;\n",
       "    }\n",
       "</style>\n",
       "<table border=\"1\" class=\"dataframe\">\n",
       "  <thead>\n",
       "    <tr style=\"text-align: right;\">\n",
       "      <th></th>\n",
       "      <th>dwpc</th>\n",
       "      <th>relh</th>\n",
       "      <th>sknt</th>\n",
       "      <th>day</th>\n",
       "      <th>month</th>\n",
       "      <th>year</th>\n",
       "      <th>hour</th>\n",
       "      <th>minute</th>\n",
       "    </tr>\n",
       "  </thead>\n",
       "  <tbody>\n",
       "    <tr>\n",
       "      <th>0</th>\n",
       "      <td>10</td>\n",
       "      <td>34</td>\n",
       "      <td>3</td>\n",
       "      <td>31</td>\n",
       "      <td>12</td>\n",
       "      <td>2020</td>\n",
       "      <td>0</td>\n",
       "      <td>0</td>\n",
       "    </tr>\n",
       "    <tr>\n",
       "      <th>1</th>\n",
       "      <td>13</td>\n",
       "      <td>53</td>\n",
       "      <td>7</td>\n",
       "      <td>31</td>\n",
       "      <td>12</td>\n",
       "      <td>2020</td>\n",
       "      <td>0</td>\n",
       "      <td>30</td>\n",
       "    </tr>\n",
       "    <tr>\n",
       "      <th>2</th>\n",
       "      <td>19</td>\n",
       "      <td>31</td>\n",
       "      <td>27</td>\n",
       "      <td>31</td>\n",
       "      <td>12</td>\n",
       "      <td>2020</td>\n",
       "      <td>1</td>\n",
       "      <td>0</td>\n",
       "    </tr>\n",
       "    <tr>\n",
       "      <th>3</th>\n",
       "      <td>-2</td>\n",
       "      <td>57</td>\n",
       "      <td>2</td>\n",
       "      <td>31</td>\n",
       "      <td>12</td>\n",
       "      <td>2020</td>\n",
       "      <td>1</td>\n",
       "      <td>30</td>\n",
       "    </tr>\n",
       "    <tr>\n",
       "      <th>4</th>\n",
       "      <td>1</td>\n",
       "      <td>94</td>\n",
       "      <td>7</td>\n",
       "      <td>31</td>\n",
       "      <td>12</td>\n",
       "      <td>2020</td>\n",
       "      <td>2</td>\n",
       "      <td>0</td>\n",
       "    </tr>\n",
       "  </tbody>\n",
       "</table>\n",
       "</div>"
      ],
      "text/plain": [
       "   dwpc  relh  sknt  day  month  year  hour  minute\n",
       "0    10    34     3   31     12  2020     0       0\n",
       "1    13    53     7   31     12  2020     0      30\n",
       "2    19    31    27   31     12  2020     1       0\n",
       "3    -2    57     2   31     12  2020     1      30\n",
       "4     1    94     7   31     12  2020     2       0"
      ]
     },
     "execution_count": 34,
     "metadata": {},
     "output_type": "execute_result"
    }
   ],
   "source": [
    "prediction_df['valid'] = pd.to_datetime(prediction_df['valid'])\n",
    "# Create new columns\n",
    "prediction_df['day'] = prediction_df['valid'].dt.day\n",
    "prediction_df['month'] = prediction_df['valid'].dt.month\n",
    "prediction_df['year'] = prediction_df['valid'].dt.year\n",
    "prediction_df['hour'] = prediction_df['valid'].dt.hour\n",
    "prediction_df['minute'] = prediction_df['valid'].dt.minute\n",
    "prediction_df = prediction_df.drop(columns=['valid'])\n",
    "\n",
    "prediction_df.head()"
   ]
  },
  {
   "cell_type": "code",
   "execution_count": 35,
   "metadata": {},
   "outputs": [
    {
     "data": {
      "text/plain": [
       "array([26.23200918, 23.28184342, 29.54265595, ..., 21.01981615,\n",
       "        2.52049122,  6.98614727])"
      ]
     },
     "execution_count": 35,
     "metadata": {},
     "output_type": "execute_result"
    }
   ],
   "source": [
    "GBR.predict(prediction_df)"
   ]
  },
  {
   "cell_type": "code",
   "execution_count": 46,
   "metadata": {
    "scrolled": false
   },
   "outputs": [
    {
     "data": {
      "text/html": [
       "<div>\n",
       "<style scoped>\n",
       "    .dataframe tbody tr th:only-of-type {\n",
       "        vertical-align: middle;\n",
       "    }\n",
       "\n",
       "    .dataframe tbody tr th {\n",
       "        vertical-align: top;\n",
       "    }\n",
       "\n",
       "    .dataframe thead th {\n",
       "        text-align: right;\n",
       "    }\n",
       "</style>\n",
       "<table border=\"1\" class=\"dataframe\">\n",
       "  <thead>\n",
       "    <tr style=\"text-align: right;\">\n",
       "      <th></th>\n",
       "      <th>tmpc</th>\n",
       "      <th>index</th>\n",
       "    </tr>\n",
       "  </thead>\n",
       "  <tbody>\n",
       "    <tr>\n",
       "      <th>0</th>\n",
       "      <td>26.232009</td>\n",
       "      <td>2020-12-31 00:00:00</td>\n",
       "    </tr>\n",
       "    <tr>\n",
       "      <th>1</th>\n",
       "      <td>23.281843</td>\n",
       "      <td>2020-12-31 00:30:00</td>\n",
       "    </tr>\n",
       "    <tr>\n",
       "      <th>2</th>\n",
       "      <td>29.542656</td>\n",
       "      <td>2020-12-31 01:00:00</td>\n",
       "    </tr>\n",
       "    <tr>\n",
       "      <th>3</th>\n",
       "      <td>8.180650</td>\n",
       "      <td>2020-12-31 01:30:00</td>\n",
       "    </tr>\n",
       "    <tr>\n",
       "      <th>4</th>\n",
       "      <td>3.308308</td>\n",
       "      <td>2020-12-31 02:00:00</td>\n",
       "    </tr>\n",
       "    <tr>\n",
       "      <th>...</th>\n",
       "      <td>...</td>\n",
       "      <td>...</td>\n",
       "    </tr>\n",
       "    <tr>\n",
       "      <th>1531</th>\n",
       "      <td>1.790839</td>\n",
       "      <td>2021-01-31 21:30:00</td>\n",
       "    </tr>\n",
       "    <tr>\n",
       "      <th>1532</th>\n",
       "      <td>27.122588</td>\n",
       "      <td>2021-01-31 22:00:00</td>\n",
       "    </tr>\n",
       "    <tr>\n",
       "      <th>1533</th>\n",
       "      <td>21.019816</td>\n",
       "      <td>2021-01-31 22:30:00</td>\n",
       "    </tr>\n",
       "    <tr>\n",
       "      <th>1534</th>\n",
       "      <td>2.520491</td>\n",
       "      <td>2021-01-31 23:00:00</td>\n",
       "    </tr>\n",
       "    <tr>\n",
       "      <th>1535</th>\n",
       "      <td>6.986147</td>\n",
       "      <td>2021-01-31 23:30:00</td>\n",
       "    </tr>\n",
       "  </tbody>\n",
       "</table>\n",
       "<p>1536 rows × 2 columns</p>\n",
       "</div>"
      ],
      "text/plain": [
       "           tmpc               index\n",
       "0     26.232009 2020-12-31 00:00:00\n",
       "1     23.281843 2020-12-31 00:30:00\n",
       "2     29.542656 2020-12-31 01:00:00\n",
       "3      8.180650 2020-12-31 01:30:00\n",
       "4      3.308308 2020-12-31 02:00:00\n",
       "...         ...                 ...\n",
       "1531   1.790839 2021-01-31 21:30:00\n",
       "1532  27.122588 2021-01-31 22:00:00\n",
       "1533  21.019816 2021-01-31 22:30:00\n",
       "1534   2.520491 2021-01-31 23:00:00\n",
       "1535   6.986147 2021-01-31 23:30:00\n",
       "\n",
       "[1536 rows x 2 columns]"
      ]
     },
     "execution_count": 46,
     "metadata": {},
     "output_type": "execute_result"
    }
   ],
   "source": [
    "prediction_outcomes_df = pd.DataFrame({'tmpc': GBR.predict(prediction_df), 'index' : rng})\n",
    "prediction_outcomes_df"
   ]
  },
  {
   "cell_type": "code",
   "execution_count": 50,
   "metadata": {
    "scrolled": true
   },
   "outputs": [
    {
     "data": {
      "text/plain": [
       "<AxesSubplot:>"
      ]
     },
     "execution_count": 50,
     "metadata": {},
     "output_type": "execute_result"
    },
    {
     "data": {
      "image/png": "[encoded data removed]",
      "text/plain": [
       "<Figure size 432x288 with 1 Axes>"
      ]
     },
     "metadata": {
      "needs_background": "light"
     },
     "output_type": "display_data"
    }
   ],
   "source": [
    "prediction_graph = prediction_outcomes_df.plot(y = \"tmpc\",  color = 'blue')\n",
    "prediction_graph"
   ]
  },
  {
   "cell_type": "markdown",
   "metadata": {},
   "source": [
    "We get predictions but they are completely random when predicting the future as we do not know the values for dwpc,relh and sknt."
   ]
  },
  {
   "cell_type": "markdown",
   "metadata": {
    "id": "j7S4XG5RH-9p"
   },
   "source": [
    "**Conclusion**\n",
    "\n",
    "*   My model is able to predict the test with a 99% accuracy. Take this with a grain of salt because i only used a sample of the entire dataset. I am also able to predict the future month.\n",
    "*   My predictions are very interesting because i do not have values for dwpc,relh and sknt which makes my predictions very random and my scores very high for score testing earlier on\n"
   ]
  }
 ],
 "metadata": {
  "colab": {
   "collapsed_sections": [],
   "name": "msa.ipynb",
   "provenance": []
  },
  "kernelspec": {
   "display_name": "Python 3 (ipykernel)",
   "language": "python",
   "name": "python3"
  },
  "language_info": {
   "codemirror_mode": {
    "name": "ipython",
    "version": 3
   },
   "file_extension": ".py",
   "mimetype": "text/x-python",
   "name": "python",
   "nbconvert_exporter": "python",
   "pygments_lexer": "ipython3",
   "version": "3.8.13"
  }
 },
 "nbformat": 4,
 "nbformat_minor": 1
}
